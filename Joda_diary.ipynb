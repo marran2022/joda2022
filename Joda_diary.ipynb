{
 "cells": [
  {
   "cell_type": "markdown",
   "id": "5b165f60",
   "metadata": {},
   "source": [
    "## Joda-päiväkirja kevät 2022"
   ]
  },
  {
   "cell_type": "code",
   "execution_count": 6,
   "id": "78f73f6a",
   "metadata": {},
   "outputs": [
    {
     "name": "stdout",
     "output_type": "stream",
     "text": [
      "\u001b[1m1. Ensimmäinen luentoviikko\u001b[0m\n"
     ]
    }
   ],
   "source": [
    "print ('\\033[1m' + \"1. Ensimmäinen luentoviikko\" + '\\033[0m')\n",
    "print ('')\n"
   ]
  },
  {
   "cell_type": "markdown",
   "id": "fef30583",
   "metadata": {},
   "source": [
    "# Ensimmäinen luentoviikko"
   ]
  },
  {
   "cell_type": "markdown",
   "id": "e303dbb3",
   "metadata": {},
   "source": [
    "Ensimmäisellä luennolla tutustuttiin kurssiin ja sen suorittamiseen, käytiin läpi mitä on datatiede ja tutustuttiin datatieteen työvälineeisiin. En osallistunut ensimmäiseen luentoon, enkä sitä seuraaviin aikataulujen sopimattomuuden vuoksi. Kirjoitan päiväkirjaa siis luennoitsijan luentomateriaalien pohjalta sekä annettujen oheislukemisten perusteella. Ensimmäisellä viikolla näitä olivat:\n",
    "* A begginer's guide to Data Ethics - artikkeli: https://medium.com/big-data-at-berkeley/things-you-need-to-know-before-you-become-a-data-scientist-a-beginners-guide-to-data-ethics-8f9aa21af742\n",
    "* Data Never Sleeps 5.0 : https://www.domo.com/learn/infographic/data-never-sleeps-5\n",
    "* Why Data teams need generalists, not specialists -artikkeli : https://hbr.org/2019/03/why-data-science-teams-need-generalists-not-specialists\n",
    "* What skills do I need to become a modern Data Scientist? - artikkeli: https://www.schoolofdatascience.amsterdam/news/skills-need-become-modern-data-scientist/\n",
    "* Becoming a Data Scientist -artikkeli: http://nirvacana.com/thoughts/2013/07/08/becoming-a-data-scientist/"
   ]
  },
  {
   "cell_type": "markdown",
   "id": "ffb95f43",
   "metadata": {},
   "source": [
    "#### Lyhyt esittely päiväkirjan kirjoittajasta ja yleiset tavoitteet kurssille\n"
   ]
  },
  {
   "cell_type": "markdown",
   "id": "e8b2cdde",
   "metadata": {},
   "source": [
    "Ajattelin aloittaa päiväkirjan yleisestä esittelystä, omista lähtökohdista ja taidoista, sekä ohjeen mukaisesti omista tavoitteista. <br>\n",
    "Olen neljännen vuoden opiskelija tietojohtamisen tutkinnolla. Pääaineenani on tietojärjestelmien johtaminen, ja sivuaineenani on informaatioanalytiikka. Johdatus datatieteisiin on sivuainekokonaisuuteen kuuluva kurssi. Olen sikäli erilainen tietojohtaja, sillä olen ns. maisteri-fuksi, joka siirtyi tietojohtamiselle suoritettuaan kandidaatin tutkinnon bioteknologiasta. Kandin aikana sivuaineenani oli laaja kokonaisuus tietojenkäsittelytieteistä. Kyseisestä sivuaineesta käteen jäi 30 opintopistettä erilaisia aloitus- ja jatkokursseja mm. pythonista, Javasta, SQL:stä. Tykkäsin hirveästi koodaamisesta, ja ajattelinkin vaihtaa uraa johonkin tietoteknillisempään. Sitten työskentelinkin yhden kesän junior ohjelmistokehittäjänä, surkeassa tiimissä, jossa minua ei opastettu/ohjattu/autettu millään lailla, vieraalla kielellä, ja itselleni super-vaikean aiheen parissa: koodasin IVD-laitteeseen mikrosirua käyttäen C/C++ -kieliä, joista ei luontisestikaan löytynyt mitään apuja netistä, sillä sirusta haluttiin uusi ja uniikki (jotta sen toimintaperiaatetta ei voida markkinoilla varastaa/kopioida). Siihen tyssäsi minun ohjelmistökehittäjän ura. Erehdyksen ja yrityksen kautta itkien 5 kuukautta mikrosirujen parissa. <br>\n",
    "Epäonnistuneen työkokemuksen jälkeen en ole koodannut liki vuoteen ennen jodan alkua, ja odotin sitä kauhulla. Python oli kuitenkin siitä kiva ohjelmointikieli, että se on todella yksinkertainen (vrt. Javan oliosäännöt), jolloin sen muistaakin hyvin, ja apua löytyy todella paljon netistä. Datatieteet toisaalta kauhistuttivat myös siksi, etten ole kovin matemaattisesti lahjakas, ja olen käsittänyt, että datalaskennat pitkälti perustuvat matikkaan niiden takana ja sen ymmärtämiseen. Koneoppiminen kuulostaa korviini scifi- tason tekniikalta.<br>\n",
    "Ensimmäisen tietojohtamisen opintovuoden aikana olen kuitenkin oppinut paljon datan hyödyistä, ja datatieteistä teoriassa mm. Liiketoimintatiedon analyysin kurssilla. Tiedän erilaisista dataan liittyvistä prosesseista, kuten datan varastointi, jalostaminen, visualisointi jne. En ole kuitenkaan päässyt soveltamaan opittua, kuin vaan PowerBI- platformilla, joka on kuitenkin sangen erilainen, kuin R/python- datan käsittely. <br>\n",
    "Näillä alkusanoilla siirrytäänkin itselleni kurssin alussa, ja jo ennen, ladittuihin **keskeisiin oppimistavoitteisiin**:\n",
    "1. Palauta mieleen python- ohjelmointikielen ominaisuudet, periaatteet, ja opi lisää funktioita.\n",
    "1. Löydä sisäinen kooditoukka\n",
    "1. Opi, mitä datatiede on, minkälaisia erilaisia tekniikoita siinä on, mihin niitä käytetään ja miten niitä käytetään. \n",
    "1. Suoriudu kurssista kunnialla\n",
    "1. Yritä käsittää harjoitustyön opit, äläkä vaan seuraa sokeasti opettajan esimerkkikoodia"
   ]
  },
  {
   "cell_type": "markdown",
   "id": "3aabf50b",
   "metadata": {},
   "source": [
    "#### Ensimmäisen luennon luentomateriaalit ja pohdintaa sen ympärillä"
   ]
  },
  {
   "cell_type": "markdown",
   "id": "f982259a",
   "metadata": {},
   "source": [
    "Luennon alussa esiteltiin datatieteiden jakauman neljään kokonaisuuteen, joita olivat:\n",
    "* liiketoiminta-osaaminen\n",
    "* ohjelmointitaidot\n",
    "* tilastollinen analyysi\n",
    "* datalähtöinen viestintä ja visualisointi\n",
    "\n",
    "Vaikka, kuten myönsin jo alussa, en olekkaan kova tilastollisen analyysin tekijä, näytti mukaan liitetty kuva huojentavalta. Aiemmilta kursseilta olen oppinut erilaisista datarooleista, ja niihin liittyvistä taitovaatimuksista. Työkokemuksen perusteella kuitenkin tiedät, että itse rooli *data scientist* kätkee itseensä monia taitoja ja profiileja, sillä joissakin pienemmissä yrityksissä datatieteilijät pyörittävät Exceleitä, ja joissakin taas kovan tason koneoppimistekniikoita. Yleisesti datan käsittelystä tulevat mieleen kuitenkin sellaiset taidot/teknologiat kuten **R**, **python**, **pilviteknologiat**, **tilastollinen matikka**, ja sitten se perinteinen **PowerBI**. Noista esiteltyistä neljästä kokonaisuudesta 3 ensimmäistä menisi tietenkin ohjelmointi-kokonaisuuteen, tilastot tilastoihin ja PowerBI sitten datalähtöiseen viestintään ja visualisointiin. Minun listalta kuitenkin ehkä bongaakin myös sen monien yritysten sudenkuopan, eli liiketoiminta-osaamisaspektin poisjättäminen. Eihän dataa ole mielekästä tai hyödyllistä jalostaa ja hyödyntää, jos sille ei ole jotakin selkeätä tavoitetta tai liiketoiminnallista prosessia, jota se tukisi. *(Koska kirjoitan tämän harjoitustyön tehtyään, liiketoiminnallinen näkökulma olikin yllättävän vaikea keksiä/liittää harjoitustyöhön, joten sudenkuoppaan sorruin itsekin)* .Itse olen lähtökohtaisesti eniten kiinnostunut datan visualisoinnista ja datalähtöisestä viestinnästä, sillä datan visuaalinen pyörittely on minulle luontevin ja mielyttävin. Olen oppinut, että datan visualisoinnilla on suuri vaikutus siihen, hyödynnetäänkö dataa liiketoiminnassa, sillä yleensä ne liiketoimintapäätökset tekevät henkilöt eivät välttämättä ole ns. data-orientoituneita, vaan heille datan tuotokset pitää esittää siten, että he ymmärtävät. On kuitenkin huippua, että tällä kurssilla päästään sukeltamaan varsinaiseen datan pyörittämiseen, sillä pelkkää visualisointia on päässyt harjoittelemaan jo muilla kursseilla. <br>\n",
    "Artikkeli *What skills do I need to become a modern Data Scientist?* jätti kuitenkin liiketoimintatuntemuksen vähemmälle painoarvolle, ja sen sijaan painotti yleistä liiketoimintatietämystä ja ns. pehmeitä arvoja. Tämä nähdääkseni toimii yhtä hyvin, koska yleensä datatieteilijän yllä on se team leader, jolla puolestaan pitäisi olla sitä yleistä datatietämystä ja kiinnostusta. Nirvacanan sivustolla *Becoming a Data Scientist* artikkelissa (Chandrasekaran, 2013) taas esitetään (surkea) visualisointi siitä, mitä taitoja datatieteilijän pitää osata, ja jakaa ne ikään kuin \"progressio\"- määriin, niin että X ja Y taidot ovat yhtä kuin 5 % kaikista tarvitsemista taidoista. Kuvaaja enemmänkin kuvastaa sellaista täydellistä data scientistiä, koska en usko hetkeäkään, että kukaan voi handlata niin monta tekniikkaa kuin tossa on annettu. Chendrasakran ei myöskään millään tavalla huomio liiketoimintaymmärrystä, vaan keskittyy vain teknillisiin aspekteihin. Kuvasta tulee lähinnä mieleen, että kun 100 %:iin on päässyt, voi matkan aloittaa alusta, sillä ei enää osaa käyttää matkalla opittuja tekniikoita ja/tai muista, mihin juuri vaikka naiivia Bayesin luokitinta käytetään. Johonkin osuuteen sopisi minusta enemmänkin iteroiva osuus, kuten vaikka koneoppimistekniikoiden yhteyteen, jolloin ei tarvitsisi osata käyttää kaikkia malleja, vaan joka projektin yhteydessä palaisi katselmoimaan erilaisia sopivia vaihtoehtoja. Tietenkin silloin pitäisi tietää, milloin klusterointia käytetään ja milloin on parempi hyödyntää regressioita.Mutta sen tiedän, että kukaan ei voi noita kaikkia osata, vaan meilläkin töissä vanhemmat konsultit oppivat lisää koko ajan. Ja toisaalta, kyseinen metromappi saattaa kymmenen vuoden päästä näyttää jo täysin erilaiselta, sillä teknologia kehittyy koko ajan.\n",
    "<br> Ja koska kukaan ei voi olla se perfect data scientist, vaan lähtökohtaisesti rooli on organisaatio- ja osaaja-sidonnainen, muokautuu se neljän kokonaisuuden välille eri painotuksella. Tärkeää on kuitenkin se, että jossakin se datatietämys ja liiketoimintatietämys kohtaavat organisaatiossa, eivätkä kulje kuin kaksi yhdensuuntaista linjaa, ikinä kohtaamatta toisiaan. Siitä syystä esim. Nirvacanan sivustolla oleva metromappia datatieteilijän taidoista on puutteellinen. Tietojohtamisessa opitaan, että data on yrityksen tärkein resurssi, mutta vain jos sen potentiaali käsitetään ja sitä osataan hyödyntää. <br>\n",
    "Artikkelissa *Why Data Science Teams Need Generalists, Not Specialists* tiivistettiin minusta hyvin, että datatieteissä ei voi oppia etukäteen, vaan oppiminen tapahtuu sen aikana. Tässä on huomattava ero edellä mainittuun metro mappiin, josta saa vähän sellaisen käsityksen että: jos opit nämä, osaat kaiken.  Dataa pitää tutkia ja siihen pitää tutustua, jotta voi tietää mitä sillä voidaan tehdä. Liian kapea näkemys ei tuota parasta lopputulosta, sillä silloin jää helposti huomaamatta muut relevantit aspektit datasta. Ja liiketoimintakin hyötyy eniten, jos dataa katsotaan \"yleisesti\", eikä pelkästään tietyn metodin/teknologian näkökulmasta.\n",
    " <br><br>\n",
    "Lopuksi pohdin vielä lyhyesti data-etiikan aihetta. Itse olen törmännyt tähän yhdellä aiemmalla kurssilla, jossa meidän toimeksiantaja käytti sellaista datankeruu-softaa, joka sitemmin tuomittiin \"laittomaksi\" Euroopassa, sillä se ei noudattanut GDPR:n asettamia ehtoja. Kyseinen softa kuitenkin on yleisessä käytössä esim. USA:ssa. Olen aiemmin toisella kurssilla myös selvittänyt tekoälyyn ja koneoppimisen tekniikoihin liittyviä eettisiä ongelmia, ja perehdyin syvällisemmin esim. web-tracking- aiheeseen. Tämä on minusta sellainen aihe, mikä pitää tiedostaa, eli se, että meistä jatkuvasti kerätään kaiken maailman dataa erilaisiin datalakeihin, joista ne voidaan myydä eteenpäin (kuten esim. Facebook tekee). Itse en voi kuitenkaan aihetta miettiä yhtään syvällisemmin, tai se alkaa muistuttamaan paranoiaa. On todella häiritsevää miettiä, miten paljon dataa minustakin on yksilönä kerätty ja minkälaisiin käyttöihin sitä on voitu hyödyntää. On vielä häiritsevämpää, että monet ihmiset eivät tätä tiedosta. *Data never sleeps 5.0* näyttää, että esimerkiksi vuonna 2017 yli 100 miljoonaa kalastusmailia on lähetetty joka minuutti. Sitten kun mietitään, moniko sellaista potentiaalisesti klikkaa, ja mitä sen klikkauksen myötä heidän datalle voidaan tehdä...Datatieteilijän on ehdottomasti oltava tietoinen omaan toimialaan liittyvistä eettisistä ongelmista, kuten *A Beginner’s Guide to Data Ethics* painotetaan. Nämä on huomioitava koko ajan ja joka prosessissa, jo esim. siinäkin, että mistä ja miten data on kerätty. "
   ]
  },
  {
   "cell_type": "markdown",
   "id": "b72a3498",
   "metadata": {},
   "source": [
    "##### 5 oivallusta ja 1 kehityskohde\n",
    "1. Data scientist- rooli ja sen vaatimukset ovat asintuntija- ja organisaatioriippuvaisia\n",
    "1. Data scientist voi aina oppia uutta ja kehittyä, eli kukaan ei ole täydellinen datatietelijä (aka 100% Chendrasakran esittämässä metromapissa)\n",
    "1. Työvälineitä ja metodeja on joka lähtöön. Ja **aina** voi keksiä uutta.\n",
    "1. Laskentateho on kasvattanut järjettömällä vauhdilla viimeisen 50 v aikana, joka on mahdollistanut datatieteen kehittymiseen nykyiseen pisteeseen. \n",
    "1. Datatieteisiin liittyy merkittävä eettinen aspekti: toistaiseksihan tämä on niin uutta lainsäädäntöä, että plajon dataa kerätään \"puolilaittomasti\"\n",
    "* Kehityskohteena juurikin viimeiseksi mainitsemaa: olisi ollut mielenkiintoista kuulla lisää pohdintaa datan etiikkaan liittyen"
   ]
  },
  {
   "cell_type": "markdown",
   "id": "6221a183",
   "metadata": {},
   "source": [
    "_________________ \n",
    "Lopuksi vielä muutama koodirivi ensimmäisellä viikolla opituista jutuista, etenkin read_csv() käytöstä ja .head() toiminnosta, hyödynnettynä omassa harjoitustyössä."
   ]
  },
  {
   "cell_type": "code",
   "execution_count": 24,
   "id": "12cdc4e3",
   "metadata": {},
   "outputs": [
    {
     "name": "stdout",
     "output_type": "stream",
     "text": [
      "             id  number_of_reviews  review_scores_communication  \\\n",
      "0          2737                  7                         5.00   \n",
      "1          2903                 55                         4.70   \n",
      "2          3079                 19                         4.84   \n",
      "3         12398                 43                         5.00   \n",
      "4         16276                  6                         5.00   \n",
      "...         ...                ...                          ...   \n",
      "24621  53729754                  0                          NaN   \n",
      "24622  53729783                  0                          NaN   \n",
      "24623  53730592                  0                          NaN   \n",
      "24624  53732572                  0                          NaN   \n",
      "24625  53733276                  0                          NaN   \n",
      "\n",
      "       review_scores_location  review_scores_value  \n",
      "0                        4.40                 4.40  \n",
      "1                        4.74                 4.48  \n",
      "2                        4.79                 4.37  \n",
      "3                        4.85                 4.85  \n",
      "4                        5.00                 4.50  \n",
      "...                       ...                  ...  \n",
      "24621                     NaN                  NaN  \n",
      "24622                     NaN                  NaN  \n",
      "24623                     NaN                  NaN  \n",
      "24624                     NaN                  NaN  \n",
      "24625                     NaN                  NaN  \n",
      "\n",
      "[24626 rows x 5 columns]\n",
      "       id  number_of_reviews  review_scores_communication  \\\n",
      "0    2737                  7                         5.00   \n",
      "1    2903                 55                         4.70   \n",
      "2    3079                 19                         4.84   \n",
      "3   12398                 43                         5.00   \n",
      "4   16276                  6                         5.00   \n",
      "5   19965                 62                         4.85   \n",
      "6   19967                 32                         4.74   \n",
      "7   20534                 45                         4.76   \n",
      "8   20587                 59                         4.96   \n",
      "9   20606                 71                         4.91   \n",
      "10  20699                413                         4.94   \n",
      "11  21193                 14                         4.85   \n",
      "12  21249                107                         4.83   \n",
      "13  21811                195                         4.58   \n",
      "14  22335                143                         4.67   \n",
      "\n",
      "    review_scores_location  review_scores_value  \n",
      "0                     4.40                 4.40  \n",
      "1                     4.74                 4.48  \n",
      "2                     4.79                 4.37  \n",
      "3                     4.85                 4.85  \n",
      "4                     5.00                 4.50  \n",
      "5                     4.85                 4.56  \n",
      "6                     4.81                 4.22  \n",
      "7                     4.93                 4.24  \n",
      "8                     4.87                 4.61  \n",
      "9                     4.79                 4.56  \n",
      "10                    4.50                 4.75  \n",
      "11                    4.69                 4.77  \n",
      "12                    4.29                 4.10  \n",
      "13                    4.93                 4.36  \n",
      "14                    4.87                 4.49  \n"
     ]
    }
   ],
   "source": [
    "%matplotlib inline\n",
    "import matplotlib.pyplot as plt\n",
    "from matplotlib import style\n",
    "style.use('ggplot')\n",
    "import pandas as pd\n",
    "import numpy as np\n",
    "from sklearn import ensemble\n",
    "from sklearn import linear_model\n",
    "from sklearn.model_selection import GridSearchCV\n",
    "from sklearn import preprocessing\n",
    "from sklearn.model_selection import train_test_split\n",
    "import sklearn.metrics as metrics\n",
    "import matplotlib.pyplot as plt\n",
    "from collections import Counter\n",
    "\n",
    "\n",
    "\n",
    "#valitaan halutun kolumnit\n",
    "columns_rome1 = ['id',\n",
    "                'review_scores_communication',\n",
    "                'review_scores_location',\n",
    "                'review_scores_value',\n",
    "                'number_of_reviews',\n",
    "                    \n",
    "]\n",
    "\n",
    "#katsotaan uudestaan mutta vain haluttuja kolumneja\n",
    "df_rome1=pd.read_csv('listings.csv.gz',usecols=columns_rome1)\n",
    "print(df_rome1)\n",
    "\n",
    "#tai head-toiminnolla vaikka 15 ensimmäistä\n",
    "print(df_rome1.head(15))\n"
   ]
  },
  {
   "cell_type": "code",
   "execution_count": 19,
   "id": "a3a3282d",
   "metadata": {},
   "outputs": [
    {
     "name": "stdout",
     "output_type": "stream",
     "text": [
      "\u001b[1m2. Toinen luentoviikko\u001b[0m\n"
     ]
    }
   ],
   "source": [
    "print ('\\033[1m' + \"2. Toinen luentoviikko\" + '\\033[0m')"
   ]
  },
  {
   "cell_type": "markdown",
   "id": "3edb8fdf",
   "metadata": {},
   "source": [
    "# Toinen luentoviikko\n",
    "\n",
    "Toisella luennolla alettiin käymään dataan liittyviä erilasia prosesseja, joita sitten myöhemmin käytettiin harjoitustyössä. Näitä ovat esimerkiksi datan kerääminen, jalostaminen, visualisoiminen. Aloitettiin tietenkin datan keräämisestä, ja käytiin läpi minkälaisia datalähteitä on olemassa, mitä kerääminen käytännössä on ja miten se voi tehdä ja mitä datan keräämisessä pitää ottaa huomioon. Kuten aiemmin mainittu, luentomateriaalit on käyty jälkikäteen läpi, koska en osallistunut luennoille. Huomasin myös, että pohdin ehkä turhan laajasti ensimmäisen viikon oppimispäiväkirjassa, ohjeessa kun oli tiivistys (n. 1 A4), niin yritän pitää pohdinnat vähän lyhyempinä jatkossa. <br>\n",
    "Ennen luentoa oli luettavana artikkeli *Data Science and the Art of Persuasion*. Tämän viikon materiaaleina oppimiseen ja päiväkirjan laatimiseen em. mainitun lisäksi hyödynnettiin tietenkin luentoa, sekä seuraavia artikkeleita:\n",
    "* Data Science and the Art of Persuasion - arttikkeli: https://hbr.org/2019/01/data-science-and-the-art-of-persuasion?utm_campaign=hbr&utm_medium=social&utm_source=twitter\n",
    "* Data Science Workflow: Overview and Challenges -blogikirjoitus: https://cacm.acm.org/blogs/blog-cacm/169199-data-science-workflow-overview-and-challenges/fulltext\n",
    "* Wikipedia artikkelit aiheista: **Web crawler**, **web scraping**\n",
    "* Beginner’s guide to Web Scraping in Python using BeautifulSoup- artikkeli:https://www.analyticsvidhya.com/blog/2015/10/beginner-guide-web-scraping-beautiful-soup-python/\n",
    "* Data Analytics: Hyped Up Aspirations or True Potential?- artikkeli:https://journals.sagepub.com/doi/pdf/10.1177/0256090920130401\n",
    "* Web Scraping and Crawling Are Perfectly Legal, Right?- artikkeli: https://benbernardblog.com/web-scraping-and-crawling-are-perfectly-legal-right/\n",
    "* Critical analysis of Big Data challenges and analytical methods -tutkimus: https://www.sciencedirect.com/science/article/pii/S014829631630488X#f0005\n",
    "* Jo puolet suomalaisyrityksistä jakaa dataa – riskeistä huolimatta tiedonvaihdosta on selvää etua yrityksille- uutinen: https://www.etla.fi/ajankohtaista/jo-puolet-suomalaisyrityksista-jakaa-dataa-riskeista-huolimatta-tiedonvaihdosta-on-selvaa-etua-yrityksille/\n"
   ]
  },
  {
   "cell_type": "markdown",
   "id": "9ab64e7a",
   "metadata": {},
   "source": [
    "##### Lyhyt pohdinta alkuun ennakkoon luettavasta artikkelista\n",
    "\n",
    "Artikkeli *Data Science and the Art of Persuasion* tuki ensimmäisen luennon oppeja. Ennakkoon luettava artikkeli käsitteli sitä, miksi niin monessa yrityksessä datasta ei saada arvoa, etenkin päätöksenteon tueksi. Siinä kirjoittajan haastattelemat datatieteilijät nostivat syiksi sen, että päätöksentekijät eivät ymmärrä dataa tai data-analyysin tuloksia, jolloin he eivät halua käyttää sellaista tietoa päätöksenteossa. Datatieteilijät kokivat, että heidän tärkeämmäksi skilliksi nousi se, miten hyvin he pystyvät kommunikoimaan datakäsittelyn tuloksia eteenpäin ei-teknisesti suuntautuneille sidosryhmille. Tämä tukeekin minun aiempaa \"kaksi yksisuuntaista linjaa, jotka eivät ikinä kohtaa\"- näkemystä, sillä tässäkin tutkimuksessa huomattiin, miten irrallaan datankäsittelijät ja liiketoiminta-osaajat ovat toisistaan. Toisaalta, on turhaa sysätä kaikki vastuu kommunikoinnista dataosaajille. Näkisin, että datan tehokas hyödyntäminen liiketoiminnassa vaatii myös sen, että päätöksentekijät kouluttautuvat datatieteen saralla. Eihän datatuloksia voi loputtomiin yksinkertaistaa, sillä silloin ne eivät välttämättä enää vastaa alkuperäistä tarvetta, tai vaikuttavat päätöksentekijöiltä **liian** yksinkertaiselta. Ja ovathan ne päätöksentekijät korkeammassa asemassa, pitäähän heidän ottaa se vastuu siitä liiketoiminnan toiminnasta ja menestyksestä, eikä odottaa että ne datatieteilijät hoitavat kaiken heidän puolesta ja lykkäävät vain avaimet menestykseen suoraan päättäjien käsiin. Samantapaiseen pohdintaan päätyi myös artikkelin kirjoittajat. Ja tässä pitää huomioida myös erilaiset kognitiviset vinoumat. Jos ymmärrystä ei riitä datan ymmärtämiseen, voi helposti käydä niin, että poimitaan sieltä vain omaa näkemystä tukevat palat, eikä huomioida sitä kokonaiskuvaa. Artikkelin kirjoittajat nimeää tätä **the convenient truth**- ilmiöksi. Yleisesti tämä tunnetaan nimellä **vahvistusbias**.\n"
   ]
  },
  {
   "attachments": {
    "image.png": {
     "image/png": "[encoded data removed]"
    }
   },
   "cell_type": "markdown",
   "id": "c02c912b",
   "metadata": {},
   "source": [
    "#### Luentorungon pohjalta pohdintaa\n",
    "\n",
    "Luennolla lähdettiin liikkeelle datatieteen prosessista, jota tarkemmin käsiteltiin *Data Science Workflow: Overview and Challenges* -blogikirjoituksessa. Prosessissa tunnistettiin 4 päävaihetta:\n",
    "* Tiedon esikäsittely\n",
    "* Analyysi\n",
    "* Reflektio\n",
    "* Lopputuotosten käyttöönotto\n",
    "\n",
    "Jokaiseen päävaiheeseen kuuluu monia alavaiheita, kuten datan keruu, analyysin valinta, koodin debuggaus jne. Kuva oli siitä mielenkiintoinen, että olen tehnyt melko vastaanvanlaisen kurssille Data-analytiikka päätöksenteossa. Liitän sen tähän alas.![image.png](attachment:image.png) \n",
    "Kuten huomaa, minä keskityin ehkä enemmänkin mallintamaan kaikkia, minusta olennaisia vaiheita, CRISP-DM:n pohjalta. *(CRISP-DM käsiteltiin jodan ekalla luennolla, mutta en käynyt sitä läpi päiväkirjassa, koska aihe on jo sen verran tuttu itselleni. Lyhyesti kuitenkin mainitsen, että CRISP-DM on datatieteen prosessin mallia)*. Poiketen CRISP-DM:n mallista, halusin jättää datan keräämisen omaksi osuudeksi. Todellisuudessahan askeleet 2 ja 3 ovat päällekkäin ja toistuvat useamman kerran, ennen kuin päästään vaiheeseen 4. CRISP-DM:n mallin pohjalta on luotu myös muita malleja, kuten esimerkiksi LDTM. Muita malleja \n",
    "on kehitetty muun muassa siksi, että CRISP-DM malli nähdään rajoittuneena uusien teknologioiden parissa, kuten esim. koneoppimisen. <br>\n",
    "Luennolla esitetty, alunperin blogikirjoituksessa esitetty, malli tiivistää kaikki vaiheet ja jakaa ne tärkeimmiksi kokonaisuuksisksi. Siinä on kuitenkin jätetty tietotarpeiden määritys pois, mikä on minusta tärkeä ensimmäinen vaihe. Vaikka keskityttäisiin puhtaasti datatieteen prosesseihin, niin pitäähän niilläkin joku konteksti ja alkupiste olla. <br>\n",
    "Seuraavaksi käytiin läpi analytiikan nelikenttää, johon sisältyy:\n",
    "* Kuvaileva analytiikka\n",
    "* Diagnosoiva analytiikka\n",
    "* Ennakoiva analytiikka\n",
    "* Ohjaava analytiikka\n",
    "<br><br>Nämäkin ovat minulle jo tuttuja aiemmila kursseilta. Olen oppinut myös, että prediktiivinen eli ennakoiva analytiikka on kaikista käytetyin/yleisin muoto. Näiden neljän mainitun lisäksi esitettiin myös **Kartoittava analytiikka**, johon ei tyypillisesti törmää. <br>\n",
    "Analytiikan nelikenttää käsitellään laajemmin *Data Analytics: Hyped Up Aspirations or True Potential?*- artikkelissa. He esittelevät myös ns. **Big data- analytiikan**. Artikkelissa myös mainitaan, että täydelliset olosuhteet tehokkaalle data-analytiikalle syntyvät prosessikyvykkyyksistä, käytettävistä tietoresursseista, ja liiketoiminnallisesta älystä/ymmärryksestä. Organisaatiokulttuuri on heistä se isoin este, mikä on ylitettävä, tehokkaan datan hyödyntämisen omaksumisessa. Minun mielestäni palataan jälleen siihen, että datakyvykkyyden pitäisi tulla ylhäältä alaspäin, eli päätöksentekijöiden olisi oltava aidosti kiinnostuneita ja valmiita oppimaan ja kehittämään omaa datan ymmärrystä. Pelkät datatieteilijät eivät voi koko organisaatiokulttuuria muokata, vaan siihen vaaditaan esimiesten sitoutumista, sillä silloin ne viestii toiminnalleen kaikille muillekin, että data on tärkeä resurssi. Ensimmäisen luennon opeissa mainitsin myös että *Ja aina voi keksiä uutta*, paitsi että artikkelin mukaan dataprosessien voimin se on hyvinkin vaikeaa. Syyksi mainitaan se, että data-analyysissa käytetään menneetä dataa, joka ei sellaisenaan sovi täysin uusiin keksintöihin/aloihin. Mikä on toki järkeenkäypä, koska uuden alan/keksinnön luominen on vaikeaa ja onnistuessaan aina kilpailuetu, jolloin ei olisi järkevää, että kaikki voisivat periaatteessa päästä samoihin lopputuloksiin datan avulla. <br>\n",
    "Suomalaisessa uutisessa *Jo puolet suomalaisyrityksistä jakaa dataa – riskeistä huolimatta tiedonvaihdosta on selvää etua yrityksille* puhutaan siitä, että saavuttaakseen hyötyjä, enää ei edes välttämättä riitä, että omaa dataa analysoidaan ja hydöynnetään, vaan yritysten on oltava valmiita jakamaan omaa dataa myös muille. Muistan kuulleeni tästä aiemmin jollakin (oisko tietohallinnon) kurssilla, että tämä lisää yritysten riskejä huomattavasti, mutta todennäköisesti myös palkitsee niitä. Tässä joudutaan siis tasapainoilemaan riski-hyöty-vaa'alla. Uuutisessa huomioidaan kuitenkin, että toistaiseksi suuria hyötyjä ei ole saavutettu, vaikka potentiaalinen suuri rahallinen hyöty on tiedossa. Tämä nähdääkseni johtuu siitä, että tässä päästään jälleen siihen, että vaikka data hyöty on tiedossa, sitä ei osata hyödyntää. \n",
    "_____________________________\n",
    "###### Ryömijät ja raapijat\n",
    "Ryömijöitä ja raapijoita käytetään datan keruuseen, mikäli valmiita datasettejä ei ole tai niitä ei haluta käyttää.\n",
    "Ryömijä on eräänlainen hakurobotti, joka hakee verkkosivuja ja tallentaa niistä tiettyjä kenttiä laajentaen omaa hakuavaruutta. Ryömijän toimintaa kontrolloidaan siten, että määritetään, mitä sivuja se käsittelee ja miten usein se vierailee niillä sivuilla. <br>\n",
    "Raapija puolestaan on työkalu, jolla kerätään määritetty tieto verkkosivuilta. Ryömijät ja raapijat toimivat yleensä yhdessä, jolloin ryömijä luo hakuavaruuden, joissa on X määrä hyperlinkkejä eli websivuja, joilta raapijat sitten hakevat tiettyä tietoa. *Beginner’s guide to Web Scraping in Python using BeautifulSoup* mainitsee, että API:n kautta tietojen haku on parempi tapa, kuin raapijan käyttö, mutta ei aina ole mahdollinen, mikäli sivusta ei tarjoa API:a. Itse en toteuttanut ryömijä/raapija- tekniikoita harjoitustyössä, koska osaaminen ei riittänyt. <br>\n",
    "Mielenkiintoisempaa on kuitenkin minusta pohtia tällaisten työkalujen eettisyyttä. *Web Scraping and Crawling Are Perfectly Legal, Right?*- artikkelissa pohditaan, miksi ryömijöiden ja raapijoiden toimintaa nähdään nykyään negatiivisena. Syinä tähän ovat se, että ihmisistä kerätään dataa rahallistaminen mielessä, nettisivujen toiminta lamautetaan lähettämällä valtava määrä pyyntöjä, ja niillä voidaan ohittaa sivujen turvatoimet. Ei kuulosta kovin eettiseltä hommalta. Toisaalta yksi tunnetuimista ryömijöistä on Googlen oma Googlebot. Mutta kuten viime luennon yhteydessä mainitsin, Google Analyticsin toiminta hetki sitten tuomittiin laittomaksi Euroopassa GDPR:n sääntöjen rikkomisen vuoksi. Eli vaikka kuinka olisi tunnettu, niin ei se välttämättä kaikkea toimintaa oikeuta. Raapijoiden ja ryömijöiden käyttö sinäänsä ei ole laitonta, mutta se muuttuu laittomaksi, kun esimeriksi copyright- lakia rikotaan. Aihe on vielä \"harmaata aluetta\" toistaiseksi, sillä lainsäädäntö kehittyy hyvin hitaasti. <br>\n",
    "________________\n",
    "Lopuksi käsitellään vielä kerätyn datan jalostamista. Omassa harjoitustyössä jalostin dataa mm. poistamalla siitä NaN-rivit, joita ei voinut hyödyntää analyysissa. Tätä varten pitäisi tietää, mitä sarakkeita ja rivejä datassa on, ja mitä niiden datatyypit on. Datan jalostamisessa on kyse siitä että ns. raakadatasta luodaan strukturoitu, omaan käyttötarkoitukseen sopivaa dataa. Alla vielä lyhyt koodiesimerkki omasta harjoitustyöstä.\n"
   ]
  },
  {
   "cell_type": "code",
   "execution_count": 25,
   "id": "c7a05438",
   "metadata": {},
   "outputs": [
    {
     "name": "stdout",
     "output_type": "stream",
     "text": [
      "24626\n",
      "id                                0\n",
      "number_of_reviews                 0\n",
      "review_scores_communication    5198\n",
      "review_scores_location         5204\n",
      "review_scores_value            5204\n",
      "dtype: int64\n",
      "pituus 19420\n",
      "id                             0\n",
      "number_of_reviews              0\n",
      "review_scores_communication    0\n",
      "review_scores_location         0\n",
      "review_scores_value            0\n",
      "dtype: int64\n",
      "\n"
     ]
    }
   ],
   "source": [
    "#tarkistetaan datasettien rivimäärät tulostamalla ne\n",
    "print(len(df_rome1.index))\n",
    "\n",
    "#aluksi katsotaan moniko rivi on tyhjä\n",
    "print(df_rome1.isnull().sum())\n",
    "#tutustutaan dataan describe metodilla, niin ymmärretään data paremmin\n",
    "df_rome1.describe()\n",
    "\n",
    "#poistetaan listoilta NaN-arvot, eikä muuteta niitä nolliksi. Koska tässä tapauksessa ei arvostelua \n",
    "#on eri asia kuin 0 arvostelu\n",
    "\n",
    "\n",
    "df_rome = df_rome1.dropna()\n",
    "#tuloksista nöhdään, että datasta on poistunut NaN-rivit, sillä pituus ja NaN tarkastus ovat onnistuneet.\n",
    "print(\"pituus\", len(df_rome))\n",
    "print(df_rome.isnull().sum())\n",
    "print()\n"
   ]
  },
  {
   "cell_type": "markdown",
   "id": "fc82a68c",
   "metadata": {},
   "source": [
    "##### 5 oivallusta ja 1 kehityskohde\n",
    "1. Datan hyödyntäminen liiketoiminnassa vaatii liiketoimintakyvykkäitä datatieteilijöitä ja datakyvykkäitä liiketoimintatieteilijöitä\n",
    "1. Dataa ei osata vieläkään hyödyntää kunnolla, eli sen potentiaali ehkä tunnistetaan mutta ei valjasteta\n",
    "1. Data-analytiikka ei välttämättä auta keksimään uutta, sillä uudista keksinnöistä puuttuu historiallinen data.\n",
    "1. Ryömijöiden ja raapijoiden käyttö ei ole laitonta, mutta se voi kehkeytyä laittomaksi, jos sääntöjä ja lakeja rikotaan\n",
    "1. Ryömijöiden ja raapijoiden käyttö ei välttämättä ole niin vaikeata, kuin kuvittelin (tutustuttuaan BeautifulSoup ohjeeseen), eli olisi kannattanut yrittää. \n",
    "\n",
    "* Kehitettävä kohde: En ollut luennolla, joten en tiedä miten tarkkaan raapijat ja ryömijät käytiin läpi, mutta joku suomenkielinen yksinkertaiseksi laadittu ohje olisi voinut kannustaa useamman opiskelijan kokeilemaan sellaisen käyttöä/luontia. *(Paitsi että käytiinhän ne läpi koodiklinikalla, minun paha siis)*\n",
    "* Oikea kehitettävä kohde: lisää esimerkkejä jalostamisesta, mitä kaikkea sillä voidaan tehdä. \n"
   ]
  },
  {
   "cell_type": "code",
   "execution_count": 22,
   "id": "f1904ba1",
   "metadata": {},
   "outputs": [
    {
     "name": "stdout",
     "output_type": "stream",
     "text": [
      "\u001b[1m3. Kolmas luentoviikko\u001b[0m\n"
     ]
    }
   ],
   "source": [
    "print ('\\033[1m' + \"3. Kolmas luentoviikko\" + '\\033[0m')"
   ]
  },
  {
   "cell_type": "markdown",
   "id": "9228aecf",
   "metadata": {},
   "source": [
    "# Kolmas luentoviikko\n",
    "\n",
    "Perinteinen alkupuhe: luennolla en ole käynyt, vaan oppimispäiväkirja on luotu käyttämällä luentomateriaaleja ja oheislukemista. Kolmannella luentoviikolla keskityttiin koneoppimiseen ja sen soveltamiseen datatieteissä.\n",
    "<br> Tämän viikon oheismateriaali on seuraava:\n",
    "* Kurssin luennoitsijan oma artikkeli *Näin laadullinen tieto jalostuu laskennalliseksi: piirteet sosiaalisen median analytiikassa* :https://rajapinta.co/2017/10/16/nain-laadullinen-tieto-jalostuu-laskennalliseksi-piirteet-sosiaalisen-median-analytiikassa/\n",
    "* How I built a serverless web crawler to mine Vancouver real estate data at scale -kirjoitus: https://www.freecodecamp.org/news/how-to-build-a-scalable-crawler-on-the-cloud-that-can-mine-thousands-of-data-points-costing-less-a9825331eef5\n",
    "* Types of machine learning algorithms -kirjoitus: https://en.proft.me/2015/12/24/types-machine-learning-algorithms/\n",
    "* What Is Feature Engineering for Machine Learning? - artikkeli: https://medium.com/mindorks/what-is-feature-engineering-for-machine-learning-d8ba3158d97a\n",
    "* Introduction to Linear Regression in Python- artikkeli: https://towardsdatascience.com/introduction-to-linear-regression-in-python-c12a072bedf0\n",
    "* Data Fallacies to avoid - kuva, joka on saatavilla luentomateriaaleista. "
   ]
  },
  {
   "cell_type": "markdown",
   "id": "82f9f4d8",
   "metadata": {},
   "source": [
    "##### Lyhyt pohdinta alkuun ennakkoon luettavasta artikkelista\n",
    "\n",
    "Ennen luentomateriaaleihin tutustumista luin luennoitsijan oman artikkelin laadullisen tiedon jalostumiseksi laskennalliseksi, jota käsiteltiin sosiaalisen median kontekstissa. Sosiaalisen median tutkimus on minulle jo tuttua, sillä tein tutkimusmetadologian kurssilla juurikin sosiaalisen median, eritoten, Twitterin ilmiöiden tutkimusta. Siellä sovellettiin toki pääasiassa laadullisia menetelmiä, kuten sävyanalyysiä ja profiilianalyysiä. Siksi olikin mielenkiintoista päästä lukemaan kvantitatiivisten menetelmien käytöstä laadullisessa datassa. <br>\n",
    "Artikkelissa puhutaan siitä, että laskennallinen analytiikka perustuu piirteisiin, jotka ovat numeerisia, kuten tykkäysten tai seuraajien määriin. Artikkelissa nostetaan esille myös, että minun mainitsemat menetelmät voidaan muuntaa laskennalliseen muotoon perustuen juurikin piirteiden tunnistamiseen. Eli esimerkiksi sävyanalyysissa voidaan sanojen sävyerottelun lisäksi laskea, onko viesti pääosin positiivinen vai negatiivinen. Tälle mainitaan kuitenkin rajoitteet, jotka nousivat esille myös tutkimusmetadologian kurssilla, eli koneoppimisen kontekstisidonnaisuus. Esimerkiski suomeksi tällaisia sävyluokittimia vähän, ja niitä on treenattu vähällä määrällä dataa, jolloin lopputulokset eivät ole kovinkaan luotettavia. Muistaakseni meillä sana \"luke\" eli luonnontieteiden keskus luokiteltiin negatiiviseksi sanaksi. Eli kehitettävää luonnollisesti vielä on. Isoin ongelma, minkä olen huomannut, on myös se, että kone ei erota \"sävyjä\" sillä tavalla, että jos vaikka kysessä on ironisesti kirjoitettu twiitti, niin kone ei sitä huomaa, vaikka ihmiselle se olisi päivän selvää."
   ]
  },
  {
   "cell_type": "markdown",
   "id": "4fe471b3",
   "metadata": {},
   "source": [
    "#### Luentorungon pohjalta pohdintaa\n",
    "\n",
    "Luennon alussa esitetään oppimispäiväkirjaan kysymys *Big datan kerääminen, tallennus ja hyödyntäminen, minkälaisen kokonaisuuden se vaatii?*. Sen pohjalle suositellaan lukemaan Marcello Linsin dataprojekti, joka on toteutettu serverless- periaatteella. Big datahan on nähdääkseni ongelma data-analytiikalle, sillä se käsittää suuria massoja järjestelemätöntä dataa, jonka määrä kasvaa joka sekuntti. Big data kasaantuu nopeasti, ja sen jalostaminen tai edes tarkastelu on vaikeaa. Sen yhteydessä perinteisen datanhallintamenetelmät eivät toimi. Tässä päästäänkin perinteiseen **analysis gap** ilmiöön, tarviiko kaikkea mahdollista dataa haalia ja mikä on se kuilu saatavilla olevan datan ja tarvittavan datan välillä. No yleensä ei tarvitse haalia kaikkea, tai oikeastaan ei todellakaan kannata haalia kaikkea, sillä sieltä tarvitseman datan etsiminen on kuin neulan heinäsuovasta. Big datan käsittely myös vaatii laskentatehoa ja säilytystilaa, jolloin se olisi ehkä kätevintä pyörittää pilvessä. <br>\n",
    "Marcello Linsin dataprojektissa lähdettiin liikeelle siis serverittömästä lähtökohdasta, eli kaikki tapahtui pilvessä. Artikkeli oli suhteellisen vaikealukuinen, sillä käytetyt teknologiat eivät olleet minulle tuttuja. Pääpointtina oli kuitenkin se, että hän ei suosittelisi oman laatiman arkkitehtuurin käyttöä jos kaipaa tehokkuutta ja joustavuutta. Sillä vaikka hänen kehittämä malli oli halpa, se oli kuitenkin hidas ja sitä ei voinut pysäyttää, kun se oli alkanut pyörii. <br>\n",
    "*Data Fallacies to Avoid* - kuvassa näkyi lisää aikaisemmin mainittuja biaksia/kognitiivisa vääristymia, mitä datatieteisiin liittyy. Olen töissä mm. huomannut, että usein ei ymmärretä, että koneoppimisen malleja ei voida opettaa liian pieneillä seteillä, sillä silloin on iso riski ylisovittamiseen. Tässä kuvassakin se nostetaan esille **sampling bias** - nimellä. Muita mileenkiintoisia olivat **mcnamara fallacy**, eli se, että luotetaan sokeasti metrisiin tuloksiin eikä tajuta sitä isompaa kuvaa taustalla (eli pitää aina pitää mielessä, että datan kösittelyllä pitää olla joku syy taustalla, ei tehdä tekemisen ilosta esim. Mutta ei myöskään turhaan juurruta pieniin yksityiskohtiin). \n",
    "________________________________________\n",
    "Jos palataan kuitenkin pääaiheeseen, eli koneoppimisen pariin. Koneoppimislagortimit jaetaan eri luokkiin (käyttäen luentoa ja *Types of machine learning algorithms*- artikkelia:\n",
    "1. Ohjattu oppiminen\n",
    "    1. Luokittelu\n",
    "    1. Regressiot\n",
    "1. Ohjaamaton oppiminen\n",
    "    1. Klusterointi\n",
    "    1. Pattern tunnistus/luokitus\n",
    "1. Vahvistettu oppiminen (voi olla myös semi-ohjattua)\n",
    "    1. Klusterointi\n",
    "    1. Luokittelu\n",
    "<br><br>\n",
    "Jaottelu perustuu siihen, minkälaista dataa käytetään. Ohjatussa koneoppimisessa on \"labeled\" data, ja ohjaamattomassa päinvastoin. Vahvistettu oppiminen on näiden sekoitus. Pääosin jako tehdään siten, että ohjattu on tehtäväkeskeinen, ohjaamaton on datakeskeinen ja vahvistettu on molempia. Ohjatussa koneoppimisessa halutaan, että algoritmi oppii tunnistamaan ympäristön ja reagoimaan siihen opitulla tavalla. Aiemmilla viikoilla käsiteltyt analytiikan eri muodot (analytiikan nelikenttä) jakautuu siten, että prediktiivinen on ohjattua oppimista ja kuvaileva on ohjaamatonta. Harjoitustyön aikana ja aiempien kurssien perusteella olen oppinut tietyistä menetelmistä, kuten vaikka klusteroinnin K-means, monte carlo, ja naiivi Bayesin luokitin. Vierestä seuranneena tiedän kuitenkin, että ei nämä kovin helppoja ole. Harjoitustyössä tehtiin ohjattua oppimista, eli erilaisia regressioita. <br>\n",
    "Koneoppiminen perustuu piirteisiin, joista puhuttiin esilukemisen artikkelissa, ja se on tärkeä osa koneoppimista. *What Is Feature Engineering for Machine Learning?* -artikkelissa käydään läpi piirteiden suunnittelua. Piirteiden suunnittelu tapahtuu datan keruun ja siivoamisen jälkeen, ennen kun koneoppimisen mallia aletaan suunnittelemaan. Piirteiden suunnittelua erotellaan ns. jyvät akanoista, eli piirteiden suunnittelu kuuluu hyvään koneoppimisenmalliin. *(Tässä vaiheessa tiedän, että minun regressiomallit olivat ns. huonoja malleja)*. Mallin hyvyys tällaisen piirteiden suunnittelun myötä perustuu siihen, että mallin tarkkuus ja paikallapitävyys paranevat. <br>\n",
    "Koneoppiminen on minulle sen verran vaikea aihe, että omaa pohdintaa on vaikeaa lisätä. Näin jälkikäteen, omasta harjoitustyöstä voisin sanoa sen, että omassa datassa klusterointi olisi voinut olla mielekäs menetelmä, sillä sen avulla olisi voinut jakaa Rooman ja Milanon AirBnB-asunnot hinnan ja arvosanojen perusteella eri luokkiin. Harjoitustyössä käytin kuitenkin ohjattua oppimista, ohjeen mukaan sekä sen perusteella, että se sopii prediktiiviseen analytiikkaan. Loin sekä lineaarisen että monimuuttuja- regressiot.Lineaariseen regressioon tutustuin *Introduction to Linear Regression in Python* -artikkelin myötä, sekä toki luentomateriaalien ja esimerkkikoodien perusteella. Em. artikkeli avaa regression takana olevan matematiikan. Seuraavassa kohdassa näkyy minun yritykset/suoritukset lineaarisesta regressiosta. <br>\n",
    " "
   ]
  },
  {
   "cell_type": "markdown",
   "id": "18a69456",
   "metadata": {},
   "source": [
    "##### Koodiesimerkki\n",
    "Huom. Ei toimi tässä oppimispäiväkirjassa sellaisenaan, mutta toimivana näkyy harjoitustyön puolella. Liitän alle kuitenkin kuvan syntyneestä kuvaajasta."
   ]
  },
  {
   "cell_type": "code",
   "execution_count": 27,
   "id": "519b56aa",
   "metadata": {},
   "outputs": [
    {
     "ename": "KeyError",
     "evalue": "'price'",
     "output_type": "error",
     "traceback": [
      "\u001b[1;31m---------------------------------------------------------------------------\u001b[0m",
      "\u001b[1;31mKeyError\u001b[0m                                  Traceback (most recent call last)",
      "\u001b[1;32m~\\AppData\\Local\\Temp/ipykernel_4460/3524997468.py\u001b[0m in \u001b[0;36m<module>\u001b[1;34m\u001b[0m\n\u001b[0;32m      1\u001b[0m \u001b[1;31m#lineaarinen regressio Rooma, top 1/3\u001b[0m\u001b[1;33m\u001b[0m\u001b[1;33m\u001b[0m\u001b[0m\n\u001b[1;32m----> 2\u001b[1;33m \u001b[0mdf_rome_sorted_price\u001b[0m \u001b[1;33m=\u001b[0m \u001b[0mdf_rome\u001b[0m\u001b[1;33m.\u001b[0m\u001b[0msort_values\u001b[0m\u001b[1;33m(\u001b[0m\u001b[1;34m'price'\u001b[0m\u001b[1;33m,\u001b[0m \u001b[0mascending\u001b[0m \u001b[1;33m=\u001b[0m \u001b[1;32mFalse\u001b[0m\u001b[1;33m)\u001b[0m\u001b[1;33m\u001b[0m\u001b[1;33m\u001b[0m\u001b[0m\n\u001b[0m\u001b[0;32m      3\u001b[0m \u001b[0mx\u001b[0m \u001b[1;33m=\u001b[0m \u001b[0mdf_rome_sorted_price\u001b[0m\u001b[1;33m.\u001b[0m\u001b[0mhead\u001b[0m\u001b[1;33m(\u001b[0m\u001b[1;36m6473\u001b[0m\u001b[1;33m)\u001b[0m\u001b[1;33m[\u001b[0m\u001b[1;34m'price'\u001b[0m\u001b[1;33m]\u001b[0m\u001b[1;33m.\u001b[0m\u001b[0mvalues\u001b[0m\u001b[1;33m[\u001b[0m\u001b[1;33m:\u001b[0m\u001b[1;33m,\u001b[0m \u001b[0mnp\u001b[0m\u001b[1;33m.\u001b[0m\u001b[0mnewaxis\u001b[0m\u001b[1;33m]\u001b[0m\u001b[1;33m\u001b[0m\u001b[1;33m\u001b[0m\u001b[0m\n\u001b[0;32m      4\u001b[0m \u001b[0my\u001b[0m \u001b[1;33m=\u001b[0m \u001b[0mdf_rome_sorted_price\u001b[0m\u001b[1;33m.\u001b[0m\u001b[0mhead\u001b[0m\u001b[1;33m(\u001b[0m\u001b[1;36m6473\u001b[0m\u001b[1;33m)\u001b[0m\u001b[1;33m[\u001b[0m\u001b[1;34m'review_scores_value'\u001b[0m\u001b[1;33m]\u001b[0m\u001b[1;33m\u001b[0m\u001b[1;33m\u001b[0m\u001b[0m\n\u001b[0;32m      5\u001b[0m \u001b[0mclf\u001b[0m \u001b[1;33m=\u001b[0m \u001b[0mlinear_model\u001b[0m\u001b[1;33m.\u001b[0m\u001b[0mLinearRegression\u001b[0m\u001b[1;33m(\u001b[0m\u001b[1;33m)\u001b[0m\u001b[1;33m.\u001b[0m\u001b[0mfit\u001b[0m\u001b[1;33m(\u001b[0m\u001b[0mx\u001b[0m\u001b[1;33m,\u001b[0m\u001b[0my\u001b[0m\u001b[1;33m)\u001b[0m\u001b[1;33m\u001b[0m\u001b[1;33m\u001b[0m\u001b[0m\n",
      "\u001b[1;32m~\\anaconda3\\lib\\site-packages\\pandas\\util\\_decorators.py\u001b[0m in \u001b[0;36mwrapper\u001b[1;34m(*args, **kwargs)\u001b[0m\n\u001b[0;32m    309\u001b[0m                     \u001b[0mstacklevel\u001b[0m\u001b[1;33m=\u001b[0m\u001b[0mstacklevel\u001b[0m\u001b[1;33m,\u001b[0m\u001b[1;33m\u001b[0m\u001b[1;33m\u001b[0m\u001b[0m\n\u001b[0;32m    310\u001b[0m                 )\n\u001b[1;32m--> 311\u001b[1;33m             \u001b[1;32mreturn\u001b[0m \u001b[0mfunc\u001b[0m\u001b[1;33m(\u001b[0m\u001b[1;33m*\u001b[0m\u001b[0margs\u001b[0m\u001b[1;33m,\u001b[0m \u001b[1;33m**\u001b[0m\u001b[0mkwargs\u001b[0m\u001b[1;33m)\u001b[0m\u001b[1;33m\u001b[0m\u001b[1;33m\u001b[0m\u001b[0m\n\u001b[0m\u001b[0;32m    312\u001b[0m \u001b[1;33m\u001b[0m\u001b[0m\n\u001b[0;32m    313\u001b[0m         \u001b[1;32mreturn\u001b[0m \u001b[0mwrapper\u001b[0m\u001b[1;33m\u001b[0m\u001b[1;33m\u001b[0m\u001b[0m\n",
      "\u001b[1;32m~\\anaconda3\\lib\\site-packages\\pandas\\core\\frame.py\u001b[0m in \u001b[0;36msort_values\u001b[1;34m(self, by, axis, ascending, inplace, kind, na_position, ignore_index, key)\u001b[0m\n\u001b[0;32m   6257\u001b[0m \u001b[1;33m\u001b[0m\u001b[0m\n\u001b[0;32m   6258\u001b[0m             \u001b[0mby\u001b[0m \u001b[1;33m=\u001b[0m \u001b[0mby\u001b[0m\u001b[1;33m[\u001b[0m\u001b[1;36m0\u001b[0m\u001b[1;33m]\u001b[0m\u001b[1;33m\u001b[0m\u001b[1;33m\u001b[0m\u001b[0m\n\u001b[1;32m-> 6259\u001b[1;33m             \u001b[0mk\u001b[0m \u001b[1;33m=\u001b[0m \u001b[0mself\u001b[0m\u001b[1;33m.\u001b[0m\u001b[0m_get_label_or_level_values\u001b[0m\u001b[1;33m(\u001b[0m\u001b[0mby\u001b[0m\u001b[1;33m,\u001b[0m \u001b[0maxis\u001b[0m\u001b[1;33m=\u001b[0m\u001b[0maxis\u001b[0m\u001b[1;33m)\u001b[0m\u001b[1;33m\u001b[0m\u001b[1;33m\u001b[0m\u001b[0m\n\u001b[0m\u001b[0;32m   6260\u001b[0m \u001b[1;33m\u001b[0m\u001b[0m\n\u001b[0;32m   6261\u001b[0m             \u001b[1;31m# need to rewrap column in Series to apply key function\u001b[0m\u001b[1;33m\u001b[0m\u001b[1;33m\u001b[0m\u001b[0m\n",
      "\u001b[1;32m~\\anaconda3\\lib\\site-packages\\pandas\\core\\generic.py\u001b[0m in \u001b[0;36m_get_label_or_level_values\u001b[1;34m(self, key, axis)\u001b[0m\n\u001b[0;32m   1777\u001b[0m             \u001b[0mvalues\u001b[0m \u001b[1;33m=\u001b[0m \u001b[0mself\u001b[0m\u001b[1;33m.\u001b[0m\u001b[0maxes\u001b[0m\u001b[1;33m[\u001b[0m\u001b[0maxis\u001b[0m\u001b[1;33m]\u001b[0m\u001b[1;33m.\u001b[0m\u001b[0mget_level_values\u001b[0m\u001b[1;33m(\u001b[0m\u001b[0mkey\u001b[0m\u001b[1;33m)\u001b[0m\u001b[1;33m.\u001b[0m\u001b[0m_values\u001b[0m\u001b[1;33m\u001b[0m\u001b[1;33m\u001b[0m\u001b[0m\n\u001b[0;32m   1778\u001b[0m         \u001b[1;32melse\u001b[0m\u001b[1;33m:\u001b[0m\u001b[1;33m\u001b[0m\u001b[1;33m\u001b[0m\u001b[0m\n\u001b[1;32m-> 1779\u001b[1;33m             \u001b[1;32mraise\u001b[0m \u001b[0mKeyError\u001b[0m\u001b[1;33m(\u001b[0m\u001b[0mkey\u001b[0m\u001b[1;33m)\u001b[0m\u001b[1;33m\u001b[0m\u001b[1;33m\u001b[0m\u001b[0m\n\u001b[0m\u001b[0;32m   1780\u001b[0m \u001b[1;33m\u001b[0m\u001b[0m\n\u001b[0;32m   1781\u001b[0m         \u001b[1;31m# Check for duplicates\u001b[0m\u001b[1;33m\u001b[0m\u001b[1;33m\u001b[0m\u001b[0m\n",
      "\u001b[1;31mKeyError\u001b[0m: 'price'"
     ]
    }
   ],
   "source": [
    "#lineaarinen regressio Rooma, top 1/3\n",
    "df_rome_sorted_price = df_rome.sort_values('price', ascending = False)\n",
    "x = df_rome_sorted_price.head(6473)['price'].values[:, np.newaxis]\n",
    "y = df_rome_sorted_price.head(6473)['review_scores_value']\n",
    "clf = linear_model.LinearRegression().fit(x,y)\n",
    "plt.scatter(x,y,color='blue')\n",
    "plt.plot(x,clf.predict(x), color='black')\n",
    "plt.xlabel('Hinta')\n",
    "plt.ylabel('Arvostelu')\n",
    "plt.show\n"
   ]
  },
  {
   "attachments": {
    "image.png": {
     "image/png": "[encoded data removed]"
    }
   },
   "cell_type": "markdown",
   "id": "34bedc81",
   "metadata": {},
   "source": [
    "Syntynyt kuvaaja:\n",
    "![image.png](attachment:image.png)"
   ]
  },
  {
   "cell_type": "markdown",
   "id": "f14293ce",
   "metadata": {},
   "source": [
    "#### 5 oivallusta ja 1 kehityskohde\n",
    "1. Laadullisia arvoja voidaan tulkita myös laskennallisesti perustuen piirteisiin\n",
    "1. Mikä on ero ohjatun, ohjaattoman ja vahvistetun koneoppimisen välillä\n",
    "1. Ohjattu koneoppiminen sopii eritoten prediktiiviseen analytiikkaan\n",
    "1. Minun tekemät regressiomallit olivat ns. huonoja malleja, koska en suunnitellut piirteitä\n",
    "1. Klusterointi olisi voinut olla toimiva menetelmä omassa harjoitustyössä\n",
    "\n",
    "* Kehityskohteena lisää oppia klusteroinnista, tai ylipäätään ohjaamattomasta koneoppimisesta. "
   ]
  },
  {
   "cell_type": "code",
   "execution_count": 28,
   "id": "6b744548",
   "metadata": {},
   "outputs": [
    {
     "name": "stdout",
     "output_type": "stream",
     "text": [
      "\u001b[1m4. Neljäs luentoviikko\u001b[0m\n"
     ]
    }
   ],
   "source": [
    "print ('\\033[1m' + \"4. Neljäs luentoviikko\" + '\\033[0m')"
   ]
  },
  {
   "cell_type": "markdown",
   "id": "ce5d0949",
   "metadata": {},
   "source": [
    "# Neljäs luentoviikko\n",
    "\n",
    "Perinteinen alkupuhe: luennolla en ole käynyt, vaan oppimispäiväkirja on luotu käyttämällä luentomateriaaleja ja oheislukemista. Neljännellä luentoviikolla käytiin syvällisemmin läpi harjoitustyötä, tutustuttiin lisää datatiedeprosessiin ja sen käytäntöihin sekä tutustuttiin suunnittelumalleihin. Varsinaisessa luentomateriaaleissa käytiin harjoitustyön eri vaiheet läpi, joita tuli luettua harjoitustyön aikana. Näitä vaiheita olivat datan hankkiminen, datan tarkastelu, siivoaminen, rikastaminen, visualisointi ja mallintaminen. Jokaisen kohdalla tarjottiin erilaisia työkaluja/näkökulmia vaihden suorittamiseen.<br>\n",
    "Tämän viikon oheismateriaali on seuraava:\n",
    "* Opportunity Canvas- artikkeli: https://www.jpattonassociates.com/opportunity-canvas/\n",
    "* What is the Team Data Science Process?- artikkeli: https://docs.microsoft.com/en-us/azure/architecture/data-science-process/overview\n",
    "* Crafting improved business operations through agile analytics projects- artikkeli: https://www.houston-analytics.com/project-methodology\n",
    "* Taustaa JODAn suorittajille: https://github.com/InfoTUNI/joda2022/blob/master/koodiesimerkit/airnbn/python_scikit_airbnb.ipynb\n",
    "\n",
    "\n",
    "Työkirja *Taustaa JODAn suorittajille* on harjoitustyön runkona. Luin/katsoin sitä paljon silloin, kun tein omaa harjoitustyötä. Tästä ei kauheasti ole pohdittavaa, sillä työkirja on aika virtaviivainen ja sen seuraaminen oli tosi yksinkertaista. Työkirjassa käydään läpi miten AirBnB- dataa hyödynnetään, kerätään, jalostetaan, tehdään regressioita. Työkirjasta oli paljon apua, en tiedä olisinko välttämättä saanut kaikkea tehtyä ilman tätä.<br>\n",
    "Luennolla käytiin läpi myös erilaisia proessimalleja ja analytiikkakehikkoja. CRISP-DM oli keskustelun pääpainossa, josta kirjoittelinkin pitkiä pätkiä jo aikaisemmin, ja näytin CRISP-DM:n pohjalta minun luoman kuvaajan dataprosessista. Luennolla korostettiin, että lähtökohtana on **liiketoimintaongelma**, kuten minäkin uumoilin aikaisemmin. Jotta liiketoimintaongelmasta voidaan lähteä liikkeelle, liiketoiminta pitää ymmärtää ja tietää, miten se ongelma rajataan, jotta tietotarpeet voidaan määrittää. Tähän kytkeytyy samassa Choon tiedonhallinnan prosessimalli. <br>\n",
    "Tutkailin myös opportunity canvasta sekä Microsoftin diagrammia. Opportunity Canvas on tuttu palvelumuotoilukursseilta. Kanvakset ovat hyviä minusta siinä, että niiden avulla pääsee tarkastelemaan ilmiötä/prosessia eri näkökulmista, jotka eivät välttämättä muuten tulisi heti mieleen. Esimerkiksi, Opportunity Canvas tarjoaa pohdittavaksi, mitä kyseiseen liiketoimintaongelmaan tai asiakkaan ongelmaan käytetään juuri nyt ratkaisuna. Siitä voi pohtia, kannattaako esimerkiksi ongelmaa lähteä ratkaisemaan ns. \"uudelleen\". Minun harjoiutstyössä ei \"synny\" mitään uutta tavallaan, sillä käytin valmista datasettiä, ja epäilen, että joku muukin käyttäjä on vertaillun Rooman ja Milanon hintatasoa laatuun (eli arvosteluihin) nähden luodakseen asiakkaille näkemystä siitä, minkä hintaiset asunnot antavat eniten vastinetta rahalle. En käyttänyt em. kanvasta, mutta olisi todennäköisesti kannattanut, niin olisin voinut keksiä mielenkiintoisemman näkökulman omaan harjoitustyöhön. Opportunity Canvaksen yhteydessä artkkelissa mainitaan, ettei kannata tyytyä yhteen ratkaisuun, vaan kanvaksia kannattaa täyttää useampia. Tämä on hyvä, sillä silloin ei pääse juurtumaan yhteen ratkaisuun, ja sortumalla siten jälleen yhteen kognitiiviseen vinoumaan eli ankkuroitumiseen. Ankkuroituminen on siis sellainen vinouma, jossa henkilö juurtuu yhteen ratkaisuun, eikä harkitse muita. <br>\n",
    "Microsoftin *What is the Team Data Science Process?*- artikkelissa käydään dataprosessia laajemmin. Siellä näkyy mm. ensimmäisellä luennolla nähty data science lifecycle- kaavio,  joka käsittää jälleen yhtä kehikkoa dataprosesseille. Se, muista kurssilla nähdyistä poiketen, lähtee liikkeelle liiketoiminnan ymmärtämisestä. Kaavion tueksi tarjotaan eräänlaista kanvasta/diagrammia, jossa on eri vaiheet lajiteltu pienempiin kokonaisuuksiin. Microsoftin tämä TDSP- prosessi on ketterä, iteratiivinen menetelmä, joka tähtää oikeasti käytettäväksi sellaisenaan dataprojekteissa tarjoamalla varsinaiset työkalut (tosin kuin esim. CRISP-DM, joka on enemmänkin ohjaava malli). Artikkelissa mainitaan, että TDSP soveltuu muiden mallien kanssa yhteiseen käyttöön. <br>\n",
    "*Crafting improved business operations through agile analytics projects*- artikkelin tarjoama malli pohjautuu CRISP-DM- malliin. Siinä on vain 3 vaihetta, jotka yhdistävät alleen tiettyjä välivaiheita. Itse olen suorittanut Scaled Agile Frameworking, eli SAFe-sertifikaatin, joten kaikki tämän tyyppiset mallit ovat aika samanlaisia keskenään, mitä niitä on nyt tullut nähtyä. Jokainen koittaa keksiä vähän erilaisen lähtökohdan tai pääpainon ja jakaa vaiheet eri määriin. Malleja on niin paljon tarjolla, että voin kuvitella, että mallin käyttäminen perustuu joko sen tunnettavuuteen tai onnistuneeseen myyntiin. Lähtökohtaisesti en näe eroa, miksi käyttää Agile, Scrum, SAFe tai Microsoftin TDSP mallia. Meillä töissä käytetään SAFe, koska se on talon käytäntö, kun taas toisilla voi olla käytössä Microsoftin malli (riippuu taas, mitä kenellekin on myyty). <br><br>\n",
    "\n",
    "##### Koodiesimerkki\n",
    "Koodiesimerkissä näkyy datan rikastaminen, eli kahden datasetin yhdistäminen id:n perusteella merge-toiminnolla.\n",
    "\n",
    "\n",
    "\n",
    "\n"
   ]
  },
  {
   "cell_type": "code",
   "execution_count": 29,
   "id": "ecdcf74f",
   "metadata": {},
   "outputs": [
    {
     "name": "stdout",
     "output_type": "stream",
     "text": [
      "       id  number_of_reviews  review_scores_communication  \\\n",
      "0    2737                  7                         5.00   \n",
      "1    2903                 55                         4.70   \n",
      "2    3079                 19                         4.84   \n",
      "3   12398                 43                         5.00   \n",
      "4   16276                  6                         5.00   \n",
      "5   19965                 62                         4.85   \n",
      "6   19967                 32                         4.74   \n",
      "7   20534                 45                         4.76   \n",
      "8   20587                 59                         4.96   \n",
      "9   20606                 71                         4.91   \n",
      "10  20699                413                         4.94   \n",
      "11  21193                 14                         4.85   \n",
      "12  21249                107                         4.83   \n",
      "13  21811                195                         4.58   \n",
      "14  22335                143                         4.67   \n",
      "\n",
      "    review_scores_location  review_scores_value  price  \n",
      "0                     4.40                 4.40     28  \n",
      "1                     4.74                 4.48     66  \n",
      "2                     4.79                 4.37     90  \n",
      "3                     4.85                 4.85     63  \n",
      "4                     5.00                 4.50     66  \n",
      "5                     4.85                 4.56     70  \n",
      "6                     4.81                 4.22     68  \n",
      "7                     4.93                 4.24     90  \n",
      "8                     4.87                 4.61    140  \n",
      "9                     4.79                 4.56    146  \n",
      "10                    4.50                 4.75     58  \n",
      "11                    4.69                 4.77     70  \n",
      "12                    4.29                 4.10     45  \n",
      "13                    4.93                 4.36     55  \n",
      "14                    4.87                 4.49     34  \n"
     ]
    }
   ],
   "source": [
    "#haetaan ensiksi csv.gz listalta tietoja, kun nyt tiedetään mitä siellä on\n",
    "columns_rome1 = ['id',\n",
    "                'review_scores_communication',\n",
    "                'review_scores_location',\n",
    "                'review_scores_value',\n",
    "                'number_of_reviews',\n",
    "                    \n",
    "]\n",
    "\n",
    "\n",
    "df_rome1=pd.read_csv('listings.csv.gz',usecols=columns_rome1)\n",
    "\n",
    "\n",
    "#haetaan sitten csv listalta tietoja, kun nyt tiedetään mitä siellä on\n",
    "columns_rome2 = ['id',\n",
    "                'price'\n",
    "                 \n",
    "]\n",
    "df_rome2 =pd.read_csv('Listings_Rome.csv', usecols=columns_rome2)\n",
    "\n",
    "\n",
    "#yhdistetään datasetit id:n mukaan\n",
    "df_rome = pd.merge(df_rome1, df_rome2, on=\"id\")\n",
    "print(df_rome.head(15))"
   ]
  },
  {
   "cell_type": "markdown",
   "id": "18b4644e",
   "metadata": {},
   "source": [
    "#### 5 oivallusta ja 1 kehityskohde\n",
    "1. Opportunity Canvaksen käyttäminen dataprosessin kannalta\n",
    "1. Em. malli tarjosi pohdittavaa, oliko minun ratkaisu tarpeellinen/oliko liiketoimintanäkemys hyödyllinen\n",
    "1. Erilaisten mallien yhtäläisyydet ja eroavuudet\n",
    "1. Mallien käyttö taitaa perustua mallin tunnettavuuteen / onnistuneeseen myyntiin\n",
    "1. CRISP-DM toimii mallien äitinä, johon lukuisat muut mallit perustuu\n",
    "\n",
    "* Kehityskohteena se, että kerrottaisiin lisää, milloin mitäkin mallia kannattaa hyödyntää."
   ]
  },
  {
   "cell_type": "code",
   "execution_count": 30,
   "id": "4796574c",
   "metadata": {},
   "outputs": [
    {
     "name": "stdout",
     "output_type": "stream",
     "text": [
      "\u001b[1m5. Viides luentoviikko\u001b[0m\n"
     ]
    }
   ],
   "source": [
    "print ('\\033[1m' + \"5. Viides luentoviikko\" + '\\033[0m')"
   ]
  },
  {
   "cell_type": "markdown",
   "id": "9d3827ca",
   "metadata": {},
   "source": [
    "# Viides luentoviikko\n",
    "\n",
    "Perinteinen alkupuhe: luennolla en ole käynyt, vaan oppimispäiväkirja on luotu käyttämällä luentomateriaaleja ja oheislukemista. Viides viikko poikkeaa siten, että tarjolla oli vierailuluento Futuricelta luonnollisen kielen analyysistä. Ennakkoluettavaa ei ollut.<br><br>\n",
    "\n",
    "Futuricen luennolla käytiin ensiksi läpi NLP:tä, joka on datatieteen erikosala, jossa datalähteenä on luonnollinen kieli. Heti alkuun joudun googlettamaan, mikä luonnollinen kieli on. No mutta kappas, luonnollinen kieli on sitä, mitä tässä kirjoitan ja mitä me puhutaan. Se on keksitty nimetä \"luonnolliseksi\" siksi, että voidaan erotella sitä formaaleista kielistä, joita ovat vaikka ohjelmointikieliä tai ihan vaan keksityistä kielistä (esim. se kieli Game of Thrones sarjasta). Tämän osasi kertoa Wikipedia (https://fi.wikipedia.org/wiki/Luonnollinen_kieli). Tässä nousi heti mieleen jodan luennoitsijan kirjoittama artikkeli siitä, miten laadullinen aineisto muutetaan laskennalliseksi. Silloin puhuttiin piirteist (feature), joista myös Futuricen luennollakin mainittiin. NLP:n käyttökohteita ovat mm. chatbotit ja tekstin luokittelu. Eli toisin sanoen se twiittien sävyanalyysi-työkalu, jota hyödynsin tutkimusmetadologian kurssilla, taitaa osua juurikin NLP:n alle. Samoin yhdessä työpaikassa X vuosia sitten \"treenasin\" chättibottia, syöttämällä sille erilaisia sanoja ja sanayhdistelmiä, joiden perusteella rakennettiin vastaus. Tarkoitus oli opettaa chättibotti tunnistamaan aiheet, joista ihmiset kyseli nettisivuilla, ja ohjata ne sopiville sivuille tai välittää chätit oikeille ihmisille käsiteltäviksi. Eli tietämättä olen ollut ainakin osittain mukana käyttämässä NLP:n tekniikoita. Futurice esitti yhdeksi käyttökohteeksi myös automaattiset konekäännökset, joissa taitaa suomen kielen osalta olla saman ongelma kuin twiittien sävyanalyysityökalussa: treenidataa on suhteessa vähän, jolloin käännökset ovat \"outoja\". Luonnolliselle kielelle ovat sitten myös ominaisia kaiken maailman lyhenteet, sanamuunnelmat, sanaleikit jne. jotka varmasti vaikeuttavat tekstin piirteiden tunnistamisen. Jos tähän minun päiväkirjaan sovellettaisiin nyt automaattista käännöskonetta, niin olisi varmasti hankalaa luettavaa, kun käytän lyhenteitä ja aloitan välillä lauseet \"ikään kuin\" väärällä sanalla. <br>\n",
    "Lyhenteitä voidaan varmaankin kuitenkin luokitella \"hukkasanoihin\". Hukkasanoista oli juttua jo aiemmalla luenolla, ja Futurice kertoo niistä, että ne ovat \"kohinaa\", joka ei lisää informaatioarvoa. Näitä voisivat olla esim. juuri käyttämäni sana \"juuri\". Futuricen luennoitsija mainitsi myös, että hukkasana-määrittely voidaan tehdä siten, että se on toimialakohtainen, sillä jonkun alan hukkasana voi olla toisella alalla tärkeä. Esimerkin kohdalle on jätetty vain kysymysmerkki, ja koska en osallistunut luennolle, niin itse en pysty keksimään yhtäkään sellaista sanaa. Ehkä joku vähemmän spesifi toimialasana, kuten \"veri\" kävisi tähän, sillä onhan se se IT-sanastossa turha, mutta taas lääketieteen sanastossa aikakin merkittävä. <br>\n",
    "Futuricen luennolla nostettiin, että datan esikäsittely on tärkeää. Sen tarkoitus on vähentää kohinaa, eli poistaa hukkasanoja, erikoismerkkejä, isoja kirjaimia, ja täten parantaa opetusdatan laatua sekä muuttaa opetusdata sellaiseen muotoon, jossa sitä voidaan käyttää mallin opetukseen. Tämä olikin itse asiassa yksi ongelmista, joihin itse törmäsin monimuuttujaregressiossa. En tajunnut, että malliin minun asettamilla parametreillä ei voida käyttää sarakkeita, joissa on String-tyyppisiä arvoja. Malli ei toiminut, vaan tuotti punaisia erroreita toisensa jälkeen. Pienen selvittelyn jälkeen selvisi, että olin jättänyt string-sarakkeen mukaan, jota malli ei pystynyt käsittelemään.<br>\n",
    "Futuricen luennolla datan esikäsittelyn jälkeen näytettin, miten malli opetettiin, testattiin ja sovellettiin. Jälkikäteen näitä on aika vaikea käydä yksin läpi, sillä kaikki koodi ei aukea minulle. Futurice oli kuitenkin laatinut todella kivan taulukon, missä he selittivät mitä parameterejä käytettiin mallissa ja mitä ne tarkoittaa. Esim \"epoch\" on se, monta kertaa mallin opetus iteroidaan. Mallin toimintaa testattiin ulkopuolisilla datalähteillä. Materiaalit olivat mielenkiintoisia, ja huomasi, että luennoitsija yritti pitää esimerkin yksinkertaisena.<br><br>\n",
    "\n",
    "#### Koodiesimerkki\n",
    "Minun koodiesimerkki on monimuuttujaregressiosta, jossa näytän siihen käyttämän koodin ja omat parametrit. Koodi ei tässä päiväkirjassa toimi sellaisenaan, koska se on osa harjoitustyötä. Koodimalli on katsottu kurssin vetäjän esimerkistä.\n",
    "Käytän kuitenkin Futuricen esimerkkiä, ja selitän  parametrin.<br><br>\n",
    "**test_size** = on arvo 0 ja yhden välillä, ja kuvastaa kuinka ison osan käytetään training settiin. 0.4 tarkoittaa että 40 % käytetään training settiin ja 60% käytetään setin testaamiseen. Päädyin arvoon oikeastaan summamutikassa, kun testasin, miksi malli ei toimi (ennen kun tiesin, että virhe johtui String-arvoista).\n",
    "\n"
   ]
  },
  {
   "cell_type": "code",
   "execution_count": null,
   "id": "0ccbef19",
   "metadata": {},
   "outputs": [],
   "source": [
    "#Monimuuttuaja-analyysillä katsotaan kaikkien arvosteluluokkien vaikutusta hintaan Rooma\n",
    "x_train, x_test, y_train, y_test = train_test_split(df_rome_sorted_price.drop(['price'], axis=1),\n",
    "                                                    df_rome_sorted_price.price, test_size=0.4, random_state=20)\n",
    "\n",
    "n_est = 300\n",
    "tuned_parameters ={\n",
    "    \"n_estimators\" : [ n_est ],\n",
    "    \"max_depth\" : [ 4 ],\n",
    "    \"learning_rate\" : [ 0.01 ],\n",
    "    \"min_samples_split\" : [ 2 ],\n",
    "    \"loss\" : [ 'ls', 'lad']\n",
    "}\n",
    "\n",
    "\n",
    "gbr = ensemble.GradientBoostingRegressor()\n",
    "clf = GridSearchCV(gbr, cv=3, param_grid=tuned_parameters, scoring=\"neg_median_absolute_error\")\n",
    "preds = clf.fit(x_train, y_train)\n",
    "best = clf.best_estimator_\n",
    "\n",
    "\n",
    "feature_importance = clf.best_estimator_.feature_importances_\n",
    "feature_importance = 100.0 * (feature_importance / feature_importance.max())\n",
    "sorted_idx = np.argsort(feature_importance)\n",
    "pos = np.arange(sorted_idx.shape[0]) + 0.5\n",
    "pvals = feature_importance[sorted_idx]\n",
    "pcols = x_train.columns[sorted_idx]\n",
    "plt.figure(figsize=(8,12))\n",
    "plt.barh(pos,pvals,align=\"center\")\n",
    "plt.yticks(pos,pcols)\n",
    "plt.xlabel('Relative Importance')\n",
    "plt.title('Variable Importance')"
   ]
  },
  {
   "cell_type": "markdown",
   "id": "096bf02d",
   "metadata": {},
   "source": [
    "##### 5 oivallusta ja 1 kehityskohde\n",
    "\n",
    "1. Oivalsin (tai googlasin) mitä luonnollinen kieli on.\n",
    "1. Opin mitä tarkoittaa kohina datan käsittelyn yhteydessä, ja minkälaisia hukkasanoja voi esiintyä.\n",
    "1. Opin NLP:stä, esim. että olen potentiaalisesti hyödyntänyt sitä chatbotin treenaamisessa\n",
    "1. Olisi kannattanut käydä luennoilla, jälkikäteen koodiesimerkkien katsominen yksin on vaikeaa.\n",
    "1. Erilaisten parametrien tarkoituksen\n",
    "\n",
    "* Futuricen luennolle ei kehitettävää, yleisesti luennoille kuitenki se, että olisi kivaa, jos sielläkin selitettäisiin eri parametrien tarkoitus noin tarkkaan. "
   ]
  },
  {
   "cell_type": "code",
   "execution_count": 31,
   "id": "6f1b65ad",
   "metadata": {},
   "outputs": [
    {
     "name": "stdout",
     "output_type": "stream",
     "text": [
      "\u001b[1m6. Kuudes luentoviikko\u001b[0m\n"
     ]
    }
   ],
   "source": [
    "print ('\\033[1m' + \"6. Kuudes luentoviikko\" + '\\033[0m')"
   ]
  },
  {
   "cell_type": "markdown",
   "id": "2483ce07",
   "metadata": {},
   "source": [
    "# Kuudes luentoviikko\n",
    "\n",
    "Perinteinen alkupuhe: luennolla en ole käynyt, vaan oppimispäiväkirja on luotu käyttämällä luentomateriaaleja ja oheislukemista. Kuudennella viikolla syvennyttiin ohjaamattomaan koneoppimiseen. Eli kun toivoin, että ohjaamatonta koneoppimsita olisi käsitelty laajemmin, niin en vielä tiennyt, että tulen saamaan haluamaani jo kahden luentoviikon päästä. \n",
    "Oheislukemisena käytettiin seuraavaa aineistoa:\n",
    "* Introduction to Market Basket Analysis in Python- arikkeli: https://pbpython.com/market-basket-analysis.html\n",
    "* Topic Modeling- artikkeli: http://www.cs.columbia.edu/~blei/topicmodeling.html\n",
    "* Feature Scaling with scikit-learn- artikkeli: http://benalexkeen.com/feature-scaling-with-scikit-learn/\n",
    "* Approximation Algorithms for K-Modes Clustering- tutkimus: https://arxiv.org/ftp/cs/papers/0603/0603120.pdf\n",
    "\n",
    "________________\n",
    "Luentoviikolla 3 opittiin, että koneoppiminen jakautuu ohjattuun, ohjaamattomaan, ja vahvistettuun koneoppimiseen. Ohjattua koneoppimista käytettiin prediktiiviseen analytiikkaan, kun puolestaan ohjaamaton sopi enemmän eksplorativiseen analytiikkaan. Muistelin, että ohjaamattomaan koneoppimiseen kuuluivat sellaiset tekniikat kuin klusterointi ja luokittelu tai ns. patternin tunnistus. Muistan toisen kurssin luennoilta, että tätä pattern recognition- tekniikkaa käytetään datalouhinnassa esim. siihen, että tunnistetaan vaikka asiakkaan ostoskäyttäytymisen (oliskohan tämä nyt sitten klassinen esimerkki ostoskorianalyysistä).  Klusteroinnista tunnistan nimeltä K-means analyysin, ja olen lukenut aiemmin Itä-Suomen yliopistossa tuotetun tutkimuksen, jossa selvitettiin että klusterien erottelu ei aina perustu niiden erilaisuuteen, vaan päinvastoin erilaisuus saattaa aiheuttaa merkittäviä virheitä datan analysoinnissa. Samassa tutkimuksessa selvitettiiin, että klusterointi toimii usein hyvin juurikin pienille datajoukoille, joten sen olisi potentiaalisesti voinut hyödyntää myös harjoitustyössä. Siinä olisi voinut klusteroida esim. kalliit ja hyvät asunnot, kalliit ja keskilaatuiset sekä kalliit ja heikkolaatuiset, ja päinvastoin halvan hinnan ja laadun korrelaatiot omiski klustereiksi. <br><br>\n",
    "Kuudennen viikon luento aloitettiin käymään ohjaamattoman oppimisen periaatteita ja todetaan, että ohjaamatonta analyysiä käytetään erityisesti sillin, kun datasetissä ei ole erikseen määriteltyjä ennustettavia piirteitä. Tämän perusteella juurikin pattern recognition ja ostoskorianalyysi ovatkin juuri ohjaamatonta koneoppimista, sillä alkuun ei ole erikseen määriteltyjä ennustettavia piirteitä, sillä niitä ei yksinkertaisesti vielä tunneta. Ostoskorianalyysiä käsittelevässä artikkelissa *Introduction to Market Basket Analysis in Python* esitellään assosiaatiomenetelmää (joka siis on juurikin ostoskorianalyysi), joka on käytännöllinen menetelmä jota voidaan hyödyntää pattern recognitionissa isoista dataseteistä. Ostoskori- nimestä riippumatta menetelmää sovelletaan myös esim. verkossa suosittelu-koneilla. Eli siis kun Netflix ehdottaa minulle, mitä voisin katsoa seuraavaksi, analysoi se tiedot siitä, mitä olen katsonut aikaisemmin, mitä muut minun profiiliin sopivat henkilöt ovat katsoneet, ja assosiaatiomenetelmällä ehdottaa minulle seuraavat elokuvat. Cool! <br>\n",
    "Vertailemalla ohjatun ja ohjaamattoman koneoppimisen workflow- kuvia huomataan pieniä eroja. Ohjatussa mallissa treenivaiheessa raakadatan lisäksi esitellään labels, kun taas ohjaamattomassa sellaisia ei ole. Tämä johtunee siitä, että datasetissä ei ole niitä erikseen määriteltyjä ennustettavia piirteitä. Lopputuotteessa on myös eroa, koska varsinaisessa työsetissä ennustamisen lopputuloksen syntyy ohjatussa mallissa labeleita, kun taas ohjaamattomassa lopputuote on cluster number. <br>\n",
    "Luennolla esitettiin myös termi \"ryvästäminen\", joka pienen ihmettelyn jälkeen paljastui olemaan ihan vaan klusteroinnin suomenkielinen vastine. Ryvästämisen ohessa esiteltiin minulle jo aiemmin tuttu K-Means-menetelmä ja pohdittiin, että keskeistä on löytää keskenään samanlaisia datapisteitä eli tunnistaa juurikin ne yhtäläisyydet. Uutena opin kuitenkin sen, että K-Means ei voi ottaa kategorisia muuttujia, vaan siihen pitää soveltaa K-Modes-menetelmää. K-Modes tutkimuksessa *Approximation Algorithms for K-Modes Clustering* täydennetään, että k-modes täydentää k-means menetelmää ylläpitäen kuitenkin samanalaisen tehokkuuden. Luentomateriaaleissa esitetty klusterointi on myös varsin opettavainen menetelmän käytön suhteen. Juuri tällaisistä step-by-step esimerkeistä tykkään. Muuttujien normalisoinnin yhteydessä tarjotaan luettavaksi *Feature Scaling with scikit-learn*- artikkeli. Artikkelissa esitetään erilaisia tapoja muuttujien normalisointiin, kutn MinMax Scalerin ja Robust Scalerin.  Min-Max Scaler ei siitä ole paras, että se on herkkä data esiintyville poikkeavuuksille. Robust Scaler taas ei ole sellaisille herkkä, sillä se käyttää kvartiiliväliä. Ja sitten on olemassa Standard Scaler, jota voidaan käyttää vain sellaisissa tapauksissa, jossa data on normaalisti jakautunutta (esim. Gaussian käyrän mukaisesti).<br><br>\n",
    "Aihemallinnus on menetelmä, jolla dokumenttien abstrakteista etsitään \"aiheet\" eli samaan aihealueeseen kuuluvat sanat esimerkiksi. Aihemallinnus sopinee siten Futuricen esittelemän NLP:n menetelmäksi. *Topic modeling*- artikkelissa selitetään, että aihemallinnusella paljastetaan \"piilossa olevat\" temaattisen rakenteet dokumenteista ja sen avulla voidaan isojen tekstiarkistojen tiedostoja tutkia helpommin. Eli esim. sellaisella voisi siis jakaa kirjaston kaikki kirjat tiettyjen aiheiden alle. Onkohan tämmöinen käytössä jo jossakin e-kirjastossa, että vaikka #rakkaus löytyy kaikki tarjolla olevat rakkausromaanit :D<br><br>\n",
    "\n",
    "#### Koodiesimerkki\n",
    "\n"
   ]
  },
  {
   "cell_type": "code",
   "execution_count": 33,
   "id": "cdaf6287",
   "metadata": {
    "scrolled": true
   },
   "outputs": [
    {
     "name": "stdout",
     "output_type": "stream",
     "text": [
      "id                                0\n",
      "number_of_reviews                 0\n",
      "review_scores_communication    5198\n",
      "review_scores_location         5204\n",
      "review_scores_value            5204\n",
      "dtype: int64\n",
      "\n"
     ]
    },
    {
     "data": {
      "text/html": [
       "<div>\n",
       "<style scoped>\n",
       "    .dataframe tbody tr th:only-of-type {\n",
       "        vertical-align: middle;\n",
       "    }\n",
       "\n",
       "    .dataframe tbody tr th {\n",
       "        vertical-align: top;\n",
       "    }\n",
       "\n",
       "    .dataframe thead th {\n",
       "        text-align: right;\n",
       "    }\n",
       "</style>\n",
       "<table border=\"1\" class=\"dataframe\">\n",
       "  <thead>\n",
       "    <tr style=\"text-align: right;\">\n",
       "      <th></th>\n",
       "      <th>id</th>\n",
       "      <th>number_of_reviews</th>\n",
       "      <th>review_scores_location</th>\n",
       "      <th>review_scores_value</th>\n",
       "    </tr>\n",
       "  </thead>\n",
       "  <tbody>\n",
       "    <tr>\n",
       "      <th>count</th>\n",
       "      <td>2.462600e+04</td>\n",
       "      <td>24626.000000</td>\n",
       "      <td>19422.000000</td>\n",
       "      <td>19422.000000</td>\n",
       "    </tr>\n",
       "    <tr>\n",
       "      <th>mean</th>\n",
       "      <td>2.582428e+07</td>\n",
       "      <td>42.935962</td>\n",
       "      <td>4.744017</td>\n",
       "      <td>4.669156</td>\n",
       "    </tr>\n",
       "    <tr>\n",
       "      <th>std</th>\n",
       "      <td>1.651680e+07</td>\n",
       "      <td>72.795789</td>\n",
       "      <td>0.375251</td>\n",
       "      <td>0.419089</td>\n",
       "    </tr>\n",
       "    <tr>\n",
       "      <th>min</th>\n",
       "      <td>2.737000e+03</td>\n",
       "      <td>0.000000</td>\n",
       "      <td>0.000000</td>\n",
       "      <td>0.000000</td>\n",
       "    </tr>\n",
       "    <tr>\n",
       "      <th>25%</th>\n",
       "      <td>1.089210e+07</td>\n",
       "      <td>1.000000</td>\n",
       "      <td>4.640000</td>\n",
       "      <td>4.590000</td>\n",
       "    </tr>\n",
       "    <tr>\n",
       "      <th>50%</th>\n",
       "      <td>2.483955e+07</td>\n",
       "      <td>10.000000</td>\n",
       "      <td>4.860000</td>\n",
       "      <td>4.760000</td>\n",
       "    </tr>\n",
       "    <tr>\n",
       "      <th>75%</th>\n",
       "      <td>4.045803e+07</td>\n",
       "      <td>52.000000</td>\n",
       "      <td>5.000000</td>\n",
       "      <td>4.890000</td>\n",
       "    </tr>\n",
       "    <tr>\n",
       "      <th>max</th>\n",
       "      <td>5.373328e+07</td>\n",
       "      <td>829.000000</td>\n",
       "      <td>5.000000</td>\n",
       "      <td>5.000000</td>\n",
       "    </tr>\n",
       "  </tbody>\n",
       "</table>\n",
       "</div>"
      ],
      "text/plain": [
       "                 id  number_of_reviews  review_scores_location  \\\n",
       "count  2.462600e+04       24626.000000            19422.000000   \n",
       "mean   2.582428e+07          42.935962                4.744017   \n",
       "std    1.651680e+07          72.795789                0.375251   \n",
       "min    2.737000e+03           0.000000                0.000000   \n",
       "25%    1.089210e+07           1.000000                4.640000   \n",
       "50%    2.483955e+07          10.000000                4.860000   \n",
       "75%    4.045803e+07          52.000000                5.000000   \n",
       "max    5.373328e+07         829.000000                5.000000   \n",
       "\n",
       "       review_scores_value  \n",
       "count         19422.000000  \n",
       "mean              4.669156  \n",
       "std               0.419089  \n",
       "min               0.000000  \n",
       "25%               4.590000  \n",
       "50%               4.760000  \n",
       "75%               4.890000  \n",
       "max               5.000000  "
      ]
     },
     "execution_count": 33,
     "metadata": {},
     "output_type": "execute_result"
    }
   ],
   "source": [
    "#tutustutaan dataan describe metodilla, niin ymmärretään data paremmin\n",
    "df_rome1.describe()\n",
    "\n",
    "#poistetaan tyhjät sarakkeet eli NaN-sarakkeet, sillä eivät ole vertailukelpoisia\n",
    "#aluksi katsotaan moniko rivi on tyhjä\n",
    "print(df_rome1.isnull().sum())\n",
    "print()\n",
    "\n",
    "df_rome = df_rome1.dropna()\n",
    "\n",
    "#postetaan esimerkin mukaisesti vaikkapa review_scores_communication \n",
    "df_rome_dropped =df_rome1.drop(['review_scores_communication'], axis=1)\n",
    "\n",
    "#katsotaan poistuiko\n",
    "df_rome_dropped.describe()\n"
   ]
  },
  {
   "cell_type": "markdown",
   "id": "12bd75c3",
   "metadata": {},
   "source": [
    "##### 5 oivallusta ja 1 kehityskohde\n",
    "1. Että ostoskorianalyysi on juurikin ohjaamatonta koneoppimista\n",
    "1. Ostoskorianalyysi on oikeasti assosiaatiomenetelmä\n",
    "1. K-Means analyysi ei voi käsitellä kategorisia muuttujia\n",
    "1. Netflixin ehdotukset siitä, mitä voisin katsoa seuraavaksi, ovat oikeasti assosiaatiomenetelmää.\n",
    "1. Aihemallinnuksen perusteella voidaan kategorisoida isoja tekstitiedostoarkistoja.\n",
    "\n",
    "* Kehityskohteena: No ei oikeastaan ole, mutta sanotaan vaikka että ostoskorianalyysin step-by-step ohje olisi ollut mielenkiintoisempi, kuin K-Means"
   ]
  },
  {
   "cell_type": "code",
   "execution_count": 34,
   "id": "7cc99987",
   "metadata": {},
   "outputs": [
    {
     "name": "stdout",
     "output_type": "stream",
     "text": [
      "\u001b[1m7. Seitsemäs luentoviikko\u001b[0m\n"
     ]
    }
   ],
   "source": [
    "print ('\\033[1m' + \"7. Seitsemäs luentoviikko\" + '\\033[0m')"
   ]
  },
  {
   "cell_type": "markdown",
   "id": "c3a8b749",
   "metadata": {},
   "source": [
    "# Seitsemäs luentoviikko\n",
    "\n",
    "Perinteinen alkupuhe: luennolla en ole käynyt, vaan oppimispäiväkirja on luotu käyttämällä luentomateriaaleja ja oheislukemista. Viimeisellä luentoviikolla käytiin läpi visuaalinen analytiikka. Jätin edelliseltä viikolta Marvel-artikkelin tälle viikolle, sillä se käsitteli myöskin visuaalista analytiikkaa, joten en halunnut käsitellä sitä koneoppimisen yhteydessä. Ennen luentoa oli luettavana:\n",
    "* Designing and Developing Analytics-Based Data Products- artikkeli: https://www.proquest.com/docview/1831862457?accountid=14242&parentSessionId=OBr0BLmVK%2FgwabcmriwRG%2BOVXZ9sMCjJFunfMVgQ9AE%3D&pq-origsite=primo\n",
    "ja katsottavana:\n",
    "* Jeffrey Heer - Interactive Data Analysis: Visualization and Beyond : https://www.youtube.com/watch?v=hsfWtPH2kDg\n",
    "Muuta oheismateriaalia:\n",
    "* From Raw Data to Visualization: Marvel Social Graph Analysis- artikkeli:https://blog.dataiku.com/2015/05/19/marvel-social-graph-analysis\n",
    "* The 5 Common Mistakes That Lead to Bad Data Visualization- artikkeli: https://www.kdnuggets.com/2017/10/5-common-mistakes-bad-data-visualization.html\n",
    "* How To Choose the Right Visualization- artikkeli: https://associationanalytics.com/blog/choose-right-visualization/\n",
    "* Designing for Data Visualization- artikkeli: https://medium.com/design-ibm/designing-for-data-visualization-c2b18359878c\n",
    "\n",
    "\n",
    "____________________________________________\n",
    "###### Ennakkomateriaalipohdintaa"
   ]
  },
  {
   "cell_type": "markdown",
   "id": "3833d40f",
   "metadata": {},
   "source": [
    "Artikkelissa *Designing and Developing Analytics-Based Data Products* käsitellään analytiikka-pohjaisia datatuotteita, niiden suunnittelua ja kehittämistä. Artikkelissa kerrotaan esimerkiski, että alkuun datan ja analytiikan tarkoitus oli tarjota tukea päätöksentekoon, joka meillekin on aina opetettu. Mutta ilmeisesti big datan myötä data-analytiikalle on noussut toinenkin käyttötarkoitus: datatuotteiden kehitys ja kaupallistaminen. Datatuotteilla tässä tarkoitetaan vaikkapa näitä suosittelukoneita ja muun muassa suomalainen Leadfeeder-softa on sellainen, minkä tunnen olevan tämän tyyppinen datatuote. Se analysoi nettisivuilla kävijöitä ja luokittelee niitä sen mukaan, kuinka todennäköisesti he olisivat tulevia asiakkaita eli niitä liidejä. Tämähän on toki itsestään selvyys, että data-analytiikkaa on myös tuotteistettu, mutta sitä ei jotenkin ajattele, kun aina painotetaan, että se on vaan päätöksentekoa varten. Ja toisaalta kun kaikki aina kauppallistetaan, niin sitä ei tule edes ajatelleeksi. Ja onhan päätöksentekotilanteetkin välillä sellaisia, jotka johtavat kaupallistamiseen ja tuotteistamiseen. Ennakkovideossa taas käydään aika tarkasti läpi pythonin visualisointimenetelmiä. Videossa kuitenkin nostetaan esille tyypillisiä data-analyysin ongelmia/sudenkuoppia: datan laadun ongelmia, ankkuroituminen tiettyihin ominaisuuksiin ja niiden välisiin riippuvaisuuksiin sekä kognitiiviset vinoumat. Kognitiiviset vinoumat ovatkin sellaisia, joita olen pohtinut läpi oppimispäiväkirjan, niin oli kiva, että niitäkin vihdoin nostettiin esille. <br>\n",
    "\n",
    "#### Yleistä pohdintaa luentomateriaaleista\n",
    "\n",
    "Luennolla nostettiin visualisoinnin keskeisiksi tarkoituksiksi datatieteissä **eksploratiivinen analytiikka** ja **kommunikointi**. Eli visualisoinnilla voidaan siis tutkia datasettejä ja mitä ne sisältää. Yksinkertaisimmillaan harjoitustyössä tämä tuli tehtyä ihan vaan describe toiminnolla, ja toimi hyvin, kun sai selvää, minkätyyppisiä sarakkeita datasetti sisälsi. Helpotti myös kummasti ymmärtämään dataa, eli todella merkittävä etu. Samaa olen tehnyt pienemmille dataseteille PowerBI:ssä. Visualisointi ainakin itselleni tuo paljon helpotusta datan tai oikeastaan minkä tahansa ilmiön ymmärtämiseen. Luennon kysymykseen liittyen *Mitä tarkoittaa datan visualisointi? Entä informaation visualisointi?* : informaatio on jalostettua dataa, eli dataa visualisoidaan, jotta siitä saadaan muodostettua informaatiota eli liitettyä siihen kontekstia. <br>\n",
    "*Designing for Data Visualization* - artikkelissa pohditaan, että loppukäyttäjät eivät yleensä tyydy yksinkertaisiin visualisointiin, vaan kaipaavat immersoitavaa kokemusta. Harjoitustyössä tämän olisi voinut saavuttaa esimerkiksi interaktiivisella web-kojelaudalla, sillä interaktiivinen visualisointi/raportti on aina sitouttavampaa kuin staattinen/yksinkertainen visualisointi. Interaktiivissuus takaa myös sen, että siihen oikeasti tutustutaan ja asiat jäävät paremmin mieleen. Artikkelissa nostetaankin, että interaktiiviset kojelaudat koetaan mieleisiksi, sillä ne mahdollistavat visualisointien esittämisen side-by-side, jolloin niiden välinen yhteys hahmottuu heti. Visualisoinnit siis kannattaa suunnitella huolellisesti, jotta ne tarjoavat järkevän kokonaisuuden siten, että visualisointin mahdolliset riippuvuudet ja yhteydet tulevat selkeästi esille. Luennolla tämä vahvistetaan tarjoamalla yleisiä periaatteita visualisoinnista. Näistä käy ilmi, että visualisoinnin pitää keskittyä kuvaamaan keskeisiä piirteitä. Ja tietnekin myös huomautus yleisöstä. Ei pelkästään se, että mitä he kykenevät ymmärtämään, mutt myös, mitä heidän on tarkoitus oppia ja muistaa visualisoinnista. Ja tämähän minusta pätee myös yksinkertaisiin dia-esityksiin PowerPointilla. Jos ne ovat täynnä pientä tekstiä, niin sitä ei jaksa lukea eikä siitä jää mitään käteen. <br>\n",
    "*How to choose the right visualization* - artikkeli tuntui luontevalta jatkopalalta. Tähän voisi varmasti heti uumoilla, että oikea visualisointi on sekä konteksti- että kohdeyleisösidonnainen. Kontekstilla tarkoitan sitä, että esimerkiski omassa harjoitustyössä asuntojen arvosteluja vertaileminen oli luontevampaa ja näytti ehkä jopa järkevämmältä, kun toteutin sen histagrammina, enkä piirakkamallina. Artikkelissakin puhuttiin, että kun halutaan ilmoittaa määriä ja verrata niiden suuruutta, pitää käyttää kolumneja (mitä myös käytin). Artikkelissa korostettiin, että visualisoinnin pitää olla sellaista, että katsoja ymmärtää heti ensinäkemällä tai lyhyellä vilkaisulla, mistä siinä on kyse. *From Raw Data to Visualization: Marvel Social Graph Analysis*- artikkelin visualisoinnit ovat tästä ehkä vähän erilaiset, sillä siinä visualisoidaan klusterointia, joka ei ole kovin yksinselitteinen ymmärtämisen kannalta. Toisaalta, artikkeli on hauska esimerkki siitä, että mitä tahansa voidan analysoida ja visualisoida. Luennolla korostettiin myös sitä, että asettelu on tärkeää. Kojelaudan merkeissä tämä voisi tarkoittaa, että tärkein kuva sijoitetaan keskelle katseenvangitsijaksi. Tai jos on vaikka sellainen \"lumihiutale\"- kuvaaja, niin sen sakarat ovat luontevasti reunoilla, ja tärkein osa keskellä. <br>\n",
    "Visualisoinnin tyypillisten virheiden yhteydessä, artikkelissa *The 5 Common Mistakes That Lead to Bad Data Visualization*, mainitaan huonolaatuinen tai ylipäätään huono data, väärän visualisoinnin valinta, liian värikäs visualisointi tai liian \"täynnä\" (eli juuri se PowerPoint slideshow, missä on vihreää tekstiä mustalla taustalla ja 20 lausetta miniprintillä), datan vääristäminen, ja akseleiden epäyhdenmukaisuus. Kaikkia näitä olen nähnyt, ja useampaan sortunut itsekin. Esimerkiksi Tunin oma virallinen pohja minusta \"liian värikäs\". \n",
    "\n",
    "##### Koodiesimerkki visualisoinnista:\n"
   ]
  },
  {
   "cell_type": "code",
   "execution_count": null,
   "id": "8fe42bc3",
   "metadata": {},
   "outputs": [],
   "source": [
    "#katsotaan montako täyden 5 asuntoa on Roomassa kaikkiaan ja mikä on niiden osuus kokonaismäärästä, ja mikä niiden keskihinta on\n",
    "\n",
    "df_rome_5 = df_rome[df_rome.reviews_avg == 5]\n",
    "print(len(df_rome_5))\n",
    "print(\"Osuus asuntojen kokonaismäärästä\", round(len(df_rome_5)/len(df_rome)*100, 1), \"%\")\n",
    "print(\"Viiden arvosanan saaneiden asuntojen keskihinta\", round(df_rome_5.price.mean(),1), \"€\")\n",
    "\n",
    "#vastaava Milanolle\n",
    "\n",
    "\n",
    "df_milan_5 = df_milan[df_milan.reviews_avg == 5]\n",
    "print(len(df_milan_5))\n",
    "print(\"Osuus asuntojen kokonaismäärästä\", round(len(df_milan_5)/len(df_milan)*100, 1), \"%\")\n",
    "print(\"Viiden arvosanan saaneiden asuntojen keskihinta\", round(df_milan_5.price.mean(),1), \"€\")\n",
    "\n",
    "#katsotaan hintajakauma\n",
    "\n",
    "#arvosanojen ja hintojen jakauma, vertailu side-by-side. Oikealla Milano, vasemmalla Rooma\n",
    "fig, (ax1, ax2) = plt.subplots(1, 2)\n",
    "fig.suptitle('Hintajakauma parhaat arvosanat saaneiden asuntojen kesken, Milano oikealla')\n",
    "ax1.hist(df_rome_5.price, bins=100, range=(0,1000))\n",
    "ax2.hist(df_milan_5.price, bins=100, range=(0,1000))\n"
   ]
  },
  {
   "attachments": {
    "image.png": {
     "image/png": "[encoded data removed]"
    }
   },
   "cell_type": "markdown",
   "id": "1c5c0772",
   "metadata": {},
   "source": [
    "![image.png](attachment:image.png)"
   ]
  },
  {
   "cell_type": "markdown",
   "id": "ae5a71cc",
   "metadata": {},
   "source": [
    "##### Saavutinko omat tavoitteet?\n",
    "Viimeisellä viikolla piti pohtia myös, miten on saavuttanut omat alkuun asettamat tavoitteet. Minulla oli muutama tavoite, jotka käsittelivät koodaamiseen syventymistä, sitten kurssista suoritumisen ja datatieteistä oppimisen. No käydäänpäs läpi. En voisi sanoa, että kooditoukka olisi palannut, mutta python oli mukava kaveri pitkästä aikaa. Ensimmäisen viikon jälkeen en enää yrittänyt käyttää pilkkupistettä jokaisen koodirivin perässä. <br>\n",
    "Kurssista koen suoriutuneeni hyvin, ja olen oppinut paljon uutta, viimeistään tässä oheismateriaaliin perehtymisessä oppimispäiväkirjaa kirjoittaessa. Koen nyt, että ymmärrän edes jotenkin eri tekniikat, koneoppimiset, yleiset dataprosessin vaiheet. Ja hei, vaikka ihan kaikkia koodiesimerkkejä tajunnut, niin onnistuin kuitenkin harjoitustyön tekemään. Kaikkiaan sanoisin, että ihan 3/5 suoritus tavoitteiden osalta siis.\n",
    "\n",
    "##### 5 oivallusta ja 1 kehityskohde\n",
    "1. Visualisointeja on monenlaisia, ja niiden käyttö riippuu kontekstista, kohdeyleisöstä ja datan keskeisistä piirteistä.\n",
    "1. Data-analytiikan toinen käyttökohde ovat kaupallistetut datatuotteet\n",
    "1. Interaktiivinen loppuraportti olisi tarkistajallakin ollut kivempi, sillä siitä näkee heti, mistä on kyse.\n",
    "1. Liiallinen värikkyyskin on virhe datan visualisoinnissa. \n",
    "1. Saavutin melkein kaikki alussa asettamaani tavoitteet, huonomminkin olisi voinut mennä.\n",
    "\n",
    "* Kehityskohteena: Pliis, ei enää tällaisia \"kerro kehityskohde\" -pyyntöjä, näitä oli tuskallista miettiä"
   ]
  },
  {
   "cell_type": "code",
   "execution_count": null,
   "id": "11dcb86d",
   "metadata": {},
   "outputs": [],
   "source": []
  }
 ],
 "metadata": {
  "kernelspec": {
   "display_name": "Python 3 (ipykernel)",
   "language": "python",
   "name": "python3"
  },
  "language_info": {
   "codemirror_mode": {
    "name": "ipython",
    "version": 3
   },
   "file_extension": ".py",
   "mimetype": "text/x-python",
   "name": "python",
   "nbconvert_exporter": "python",
   "pygments_lexer": "ipython3",
   "version": "3.9.7"
  }
 },
 "nbformat": 4,
 "nbformat_minor": 5
}
